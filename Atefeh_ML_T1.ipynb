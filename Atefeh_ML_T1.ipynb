{
  "nbformat": 4,
  "nbformat_minor": 0,
  "metadata": {
    "colab": {
      "name": "Atefeh-ML-T1",
      "provenance": [],
      "collapsed_sections": [
        "aI4F_FViO_yV",
        "a3R9zCaFevJS"
      ]
    },
    "kernelspec": {
      "name": "python3",
      "display_name": "Python 3"
    }
  },
  "cells": [
    {
      "cell_type": "markdown",
      "metadata": {
        "id": "UzJFfxLVmH1X",
        "colab_type": "text"
      },
      "source": [
        " **HW 1**\n",
        "\n",
        "# ---\n",
        "\n",
        "\n",
        "Created by **Atefeh Hajijamali Arani**, August 06, 2020"
      ]
    },
    {
      "cell_type": "code",
      "metadata": {
        "id": "S6c4hlYsmGCr",
        "colab_type": "code",
        "colab": {}
      },
      "source": [
        "import numpy as np\n",
        "import pandas as pd\n",
        "import matplotlib.pyplot as plt\n",
        "from sklearn.linear_model import LinearRegression\n",
        "import warnings\n",
        "warnings.filterwarnings('ignore')\n",
        "%matplotlib inline"
      ],
      "execution_count": 6,
      "outputs": []
    },
    {
      "cell_type": "code",
      "metadata": {
        "id": "jaPJnY9Jm0XI",
        "colab_type": "code",
        "colab": {}
      },
      "source": [
        "lr_model = LinearRegression(normalize=True)\n",
        "seed_number = 0"
      ],
      "execution_count": 7,
      "outputs": []
    },
    {
      "cell_type": "code",
      "metadata": {
        "id": "6HMJ4ApJgC3m",
        "colab_type": "code",
        "colab": {}
      },
      "source": [
        "def MSE_error(y,h):\n",
        "  return np.mean((y-h) ** 2 )/2"
      ],
      "execution_count": 8,
      "outputs": []
    },
    {
      "cell_type": "markdown",
      "metadata": {
        "id": "-mVca_3nO0Ja",
        "colab_type": "text"
      },
      "source": [
        "# **Part 1**"
      ]
    },
    {
      "cell_type": "markdown",
      "metadata": {
        "id": "LkayoWAjMOxW",
        "colab_type": "text"
      },
      "source": [
        "LR Model with **$k=1$** and **$5$** input data"
      ]
    },
    {
      "cell_type": "code",
      "metadata": {
        "id": "U-BxMJcPIb95",
        "colab_type": "code",
        "colab": {}
      },
      "source": [
        "np.random.seed(seed_number)\n",
        "x = np.random.rand(5, 1) * 20\n",
        "y = 2.358 * x - 3.121\n",
        "y = y + np.random.normal(scale=3, size=y.shape)\n",
        "x = x.reshape(-1, 1)\n",
        "y = y.reshape(-1, 1)"
      ],
      "execution_count": null,
      "outputs": []
    },
    {
      "cell_type": "code",
      "metadata": {
        "id": "0E1r-tcNJti8",
        "colab_type": "code",
        "colab": {
          "base_uri": "https://localhost:8080/",
          "height": 34
        },
        "outputId": "706d6722-7c92-4e4e-b1b7-04a2a812559b"
      },
      "source": [
        "lr_model.fit(x ,y)\n",
        "print(lr_model.coef_, lr_model.intercept_)"
      ],
      "execution_count": null,
      "outputs": [
        {
          "output_type": "stream",
          "text": [
            "[[2.35330929]] [-0.40821574]\n"
          ],
          "name": "stdout"
        }
      ]
    },
    {
      "cell_type": "code",
      "metadata": {
        "id": "mrV2RRbRKTca",
        "colab_type": "code",
        "colab": {
          "base_uri": "https://localhost:8080/",
          "height": 282
        },
        "outputId": "d6277361-32ba-474f-a6a7-2a51609d659a"
      },
      "source": [
        "x_line = np.arange(0, 20, 0.1).reshape(-1,1)\n",
        "y_line = lr_model.predict(x_line)\n",
        "plt.plot(x_line,y_line)\n",
        "plt.plot(x,y,'ro')"
      ],
      "execution_count": null,
      "outputs": [
        {
          "output_type": "execute_result",
          "data": {
            "text/plain": [
              "[<matplotlib.lines.Line2D at 0x7fa78486f780>]"
            ]
          },
          "metadata": {
            "tags": []
          },
          "execution_count": 598
        },
        {
          "output_type": "display_data",
          "data": {
            "image/png": "[encoded data removed]",
            "text/plain": [
              "<Figure size 432x288 with 1 Axes>"
            ]
          },
          "metadata": {
            "tags": [],
            "needs_background": "light"
          }
        }
      ]
    },
    {
      "cell_type": "code",
      "metadata": {
        "id": "k8u3r82niPwn",
        "colab_type": "code",
        "colab": {
          "base_uri": "https://localhost:8080/",
          "height": 34
        },
        "outputId": "e780e9a8-47e8-4e61-8399-1bb7074dd7ed"
      },
      "source": [
        "error_input5_k1 = np.array(MSE_error(y,lr_model.predict(x)))\n",
        "print(error_input5_k1)"
      ],
      "execution_count": null,
      "outputs": [
        {
          "output_type": "stream",
          "text": [
            "8.098282499957508\n"
          ],
          "name": "stdout"
        }
      ]
    },
    {
      "cell_type": "markdown",
      "metadata": {
        "colab_type": "text",
        "id": "P_re-FWcNR57"
      },
      "source": [
        "LR Model with **$k=1$** and **$10$** input data"
      ]
    },
    {
      "cell_type": "code",
      "metadata": {
        "colab_type": "code",
        "id": "qAn-UP23NL1w",
        "colab": {}
      },
      "source": [
        "np.random.seed(seed_number)\n",
        "x = np.random.rand(10, 1) * 20\n",
        "y = 2.358 * x - 3.121\n",
        "y = y + np.random.normal(scale=3, size=y.shape)\n",
        "x = x.reshape(-1, 1)\n",
        "y = y.reshape(-1, 1)"
      ],
      "execution_count": null,
      "outputs": []
    },
    {
      "cell_type": "code",
      "metadata": {
        "colab_type": "code",
        "id": "mOEOsoYFNL17",
        "colab": {
          "base_uri": "https://localhost:8080/",
          "height": 34
        },
        "outputId": "c33b74d2-e4e3-4bc0-9aa1-1b539b040c70"
      },
      "source": [
        "lr_model.fit(x ,y)\n",
        "print(lr_model.coef_, lr_model.intercept_)"
      ],
      "execution_count": null,
      "outputs": [
        {
          "output_type": "stream",
          "text": [
            "[[2.36933212]] [-2.05862072]\n"
          ],
          "name": "stdout"
        }
      ]
    },
    {
      "cell_type": "code",
      "metadata": {
        "colab_type": "code",
        "id": "viAE0K-iNL2J",
        "colab": {
          "base_uri": "https://localhost:8080/",
          "height": 282
        },
        "outputId": "bf7f8012-6823-496e-948c-86c7574bf613"
      },
      "source": [
        "x_line = np.arange(0, 20, 0.1).reshape(-1,1)\n",
        "y_line = lr_model.predict(x_line)\n",
        "plt.plot(x_line,y_line)\n",
        "plt.plot(x,y,'ro')"
      ],
      "execution_count": null,
      "outputs": [
        {
          "output_type": "execute_result",
          "data": {
            "text/plain": [
              "[<matplotlib.lines.Line2D at 0x7fa7847b9828>]"
            ]
          },
          "metadata": {
            "tags": []
          },
          "execution_count": 602
        },
        {
          "output_type": "display_data",
          "data": {
            "image/png": "[encoded data removed]",
            "text/plain": [
              "<Figure size 432x288 with 1 Axes>"
            ]
          },
          "metadata": {
            "tags": [],
            "needs_background": "light"
          }
        }
      ]
    },
    {
      "cell_type": "code",
      "metadata": {
        "id": "7rqh37whNYG_",
        "colab_type": "code",
        "colab": {
          "base_uri": "https://localhost:8080/",
          "height": 34
        },
        "outputId": "9a760121-dba7-47db-f6fc-5ab35dfd13bb"
      },
      "source": [
        "error_input10_k1 = np.array(MSE_error(y,lr_model.predict(x)))\n",
        "print(error_input10_k1)"
      ],
      "execution_count": null,
      "outputs": [
        {
          "output_type": "stream",
          "text": [
            "2.0397306868151936\n"
          ],
          "name": "stdout"
        }
      ]
    },
    {
      "cell_type": "markdown",
      "metadata": {
        "colab_type": "text",
        "id": "m3WYQT8CNnQz"
      },
      "source": [
        "LR Model with **$k=1$** and **$25$** input data"
      ]
    },
    {
      "cell_type": "code",
      "metadata": {
        "colab_type": "code",
        "id": "96-Z4d1QNnQ3",
        "colab": {}
      },
      "source": [
        "np.random.seed(seed_number)\n",
        "x = np.random.rand(25, 1) * 20\n",
        "y = 2.358 * x - 3.121\n",
        "y = y + np.random.normal(scale=3, size=y.shape)\n",
        "x = x.reshape(-1, 1)\n",
        "y = y.reshape(-1, 1)"
      ],
      "execution_count": null,
      "outputs": []
    },
    {
      "cell_type": "code",
      "metadata": {
        "colab_type": "code",
        "id": "lx3Pr6XhNnQ8",
        "colab": {
          "base_uri": "https://localhost:8080/",
          "height": 34
        },
        "outputId": "2dc5eaf6-a9ba-41e7-873d-c98b9b1e45ef"
      },
      "source": [
        "lr_model.fit(x ,y)\n",
        "print(lr_model.coef_, lr_model.intercept_)"
      ],
      "execution_count": null,
      "outputs": [
        {
          "output_type": "stream",
          "text": [
            "[[2.25491245]] [-1.50265858]\n"
          ],
          "name": "stdout"
        }
      ]
    },
    {
      "cell_type": "code",
      "metadata": {
        "colab_type": "code",
        "id": "HT90TzBENnRB",
        "colab": {
          "base_uri": "https://localhost:8080/",
          "height": 282
        },
        "outputId": "af1efc0a-6255-473a-c983-8790ccda813c"
      },
      "source": [
        "x_line = np.arange(0, 20, 0.1).reshape(-1,1)\n",
        "y_line = lr_model.predict(x_line)\n",
        "plt.plot(x_line,y_line)\n",
        "plt.plot(x,y,'ro')"
      ],
      "execution_count": null,
      "outputs": [
        {
          "output_type": "execute_result",
          "data": {
            "text/plain": [
              "[<matplotlib.lines.Line2D at 0x7fa784748c88>]"
            ]
          },
          "metadata": {
            "tags": []
          },
          "execution_count": 606
        },
        {
          "output_type": "display_data",
          "data": {
            "image/png": "[encoded data removed]",
            "text/plain": [
              "<Figure size 432x288 with 1 Axes>"
            ]
          },
          "metadata": {
            "tags": [],
            "needs_background": "light"
          }
        }
      ]
    },
    {
      "cell_type": "code",
      "metadata": {
        "id": "fzHyMqHzo7Xr",
        "colab_type": "code",
        "colab": {
          "base_uri": "https://localhost:8080/",
          "height": 34
        },
        "outputId": "ecdcfa1d-c9f6-4361-e389-2f98f3fbcd9a"
      },
      "source": [
        "error_input25_k1 = (MSE_error(y,lr_model.predict(x)))\n",
        "print(error_input25_k1)"
      ],
      "execution_count": null,
      "outputs": [
        {
          "output_type": "stream",
          "text": [
            "3.6750274981084816\n"
          ],
          "name": "stdout"
        }
      ]
    },
    {
      "cell_type": "markdown",
      "metadata": {
        "colab_type": "text",
        "id": "UmrMPWXPOQ40"
      },
      "source": [
        "LR Model with **$k=1$** and **$100$** input data"
      ]
    },
    {
      "cell_type": "code",
      "metadata": {
        "colab_type": "code",
        "id": "5lgALDUKOQ44",
        "colab": {}
      },
      "source": [
        "np.random.seed(seed_number)\n",
        "x = np.random.rand(100, 1) * 20\n",
        "y = 2.358 * x - 3.121\n",
        "y = y + np.random.normal(scale=3, size=y.shape)\n",
        "x = x.reshape(-1, 1)\n",
        "y = y.reshape(-1, 1)"
      ],
      "execution_count": null,
      "outputs": []
    },
    {
      "cell_type": "code",
      "metadata": {
        "colab_type": "code",
        "id": "-8kGfQGWOQ5J",
        "colab": {
          "base_uri": "https://localhost:8080/",
          "height": 34
        },
        "outputId": "b2b2f704-d7f6-4f95-cdbc-18c4f55a2301"
      },
      "source": [
        "lr_model.fit(x ,y)\n",
        "print(lr_model.coef_, lr_model.intercept_)"
      ],
      "execution_count": null,
      "outputs": [
        {
          "output_type": "stream",
          "text": [
            "[[2.34854025]] [-2.45454677]\n"
          ],
          "name": "stdout"
        }
      ]
    },
    {
      "cell_type": "code",
      "metadata": {
        "colab_type": "code",
        "id": "3XB-V0aSOQ5R",
        "colab": {
          "base_uri": "https://localhost:8080/",
          "height": 282
        },
        "outputId": "acbfcc9d-7c58-4199-cd7e-3cc2105605e7"
      },
      "source": [
        "x_line = np.arange(0, 20, 0.1).reshape(-1,1)\n",
        "y_line = lr_model.predict(x_line)\n",
        "plt.plot(x_line,y_line)\n",
        "plt.plot(x,y,'ro')"
      ],
      "execution_count": null,
      "outputs": [
        {
          "output_type": "execute_result",
          "data": {
            "text/plain": [
              "[<matplotlib.lines.Line2D at 0x7fa784771898>]"
            ]
          },
          "metadata": {
            "tags": []
          },
          "execution_count": 610
        },
        {
          "output_type": "display_data",
          "data": {
            "image/png": "[encoded data removed]",
            "text/plain": [
              "<Figure size 432x288 with 1 Axes>"
            ]
          },
          "metadata": {
            "tags": [],
            "needs_background": "light"
          }
        }
      ]
    },
    {
      "cell_type": "code",
      "metadata": {
        "id": "ovJ3KeVjOWmS",
        "colab_type": "code",
        "colab": {
          "base_uri": "https://localhost:8080/",
          "height": 34
        },
        "outputId": "3612740b-5fcd-4a7c-9f65-b8835f6d7082"
      },
      "source": [
        "error_input100_k1 = np.array(MSE_error(y,lr_model.predict(x)))\n",
        "print(error_input100_k1)"
      ],
      "execution_count": null,
      "outputs": [
        {
          "output_type": "stream",
          "text": [
            "4.465973919260916\n"
          ],
          "name": "stdout"
        }
      ]
    },
    {
      "cell_type": "markdown",
      "metadata": {
        "id": "aI4F_FViO_yV",
        "colab_type": "text"
      },
      "source": [
        "# **Part 2**"
      ]
    },
    {
      "cell_type": "markdown",
      "metadata": {
        "colab_type": "text",
        "id": "KRtrT6h5PPYs"
      },
      "source": [
        "LR Model with **$k=4$** and **$5$** input data"
      ]
    },
    {
      "cell_type": "code",
      "metadata": {
        "colab_type": "code",
        "id": "5qluDMmfPPYv",
        "colab": {}
      },
      "source": [
        "np.random.seed(seed_number)\n",
        "x = np.random.rand(5, 1) * 20\n",
        "y = 2.358 * x - 3.121\n",
        "y = y + np.random.normal(scale=3, size=y.shape)\n",
        "x = x.reshape(-1, 1)\n",
        "y = y.reshape(-1, 1)"
      ],
      "execution_count": null,
      "outputs": []
    },
    {
      "cell_type": "code",
      "metadata": {
        "colab_type": "code",
        "id": "e2GytY72PPY7",
        "colab": {
          "base_uri": "https://localhost:8080/",
          "height": 34
        },
        "outputId": "3b7d309b-fb8b-46f0-b9b9-c0e8e922ff7b"
      },
      "source": [
        "lr_model.fit(np.hstack((x, x ** 2, x ** 3, x ** 4)) ,y)\n",
        "print(lr_model.coef_, lr_model.intercept_)"
      ],
      "execution_count": null,
      "outputs": [
        {
          "output_type": "stream",
          "text": [
            "[[ 1.03677851e+04 -1.40335636e+03  8.34041172e+01 -1.83662845e+00]] [-28340.29868112]\n"
          ],
          "name": "stdout"
        }
      ]
    },
    {
      "cell_type": "code",
      "metadata": {
        "colab_type": "code",
        "id": "gD0iXusNPPZF",
        "colab": {
          "base_uri": "https://localhost:8080/",
          "height": 282
        },
        "outputId": "f9ee2661-3fb6-4eb5-ac95-00b6569bef25"
      },
      "source": [
        "x_line = np.arange(0, 20, 0.1).reshape(-1,1)\n",
        "y_line = lr_model.predict(np.hstack((x_line, x_line ** 2, x_line ** 3, x_line ** 4)))\n",
        "plt.plot(x_line,y_line)\n",
        "plt.plot(x,y,'ro')"
      ],
      "execution_count": null,
      "outputs": [
        {
          "output_type": "execute_result",
          "data": {
            "text/plain": [
              "[<matplotlib.lines.Line2D at 0x7fa784607550>]"
            ]
          },
          "metadata": {
            "tags": []
          },
          "execution_count": 614
        },
        {
          "output_type": "display_data",
          "data": {
            "image/png": "[encoded data removed]",
            "text/plain": [
              "<Figure size 432x288 with 1 Axes>"
            ]
          },
          "metadata": {
            "tags": [],
            "needs_background": "light"
          }
        }
      ]
    },
    {
      "cell_type": "code",
      "metadata": {
        "id": "fQo1K--Nk9rN",
        "colab_type": "code",
        "colab": {
          "base_uri": "https://localhost:8080/",
          "height": 34
        },
        "outputId": "2b704686-c729-49ef-f783-7a728251ca2c"
      },
      "source": [
        "error_input5_k4 = np.array(MSE_error(y,lr_model.predict(np.hstack((x, x ** 2, x ** 3, x ** 4)))))\n",
        "print(error_input5_k4)"
      ],
      "execution_count": null,
      "outputs": [
        {
          "output_type": "stream",
          "text": [
            "7.854118500955594e-22\n"
          ],
          "name": "stdout"
        }
      ]
    },
    {
      "cell_type": "markdown",
      "metadata": {
        "colab_type": "text",
        "id": "9LQdkvXQQNqg"
      },
      "source": [
        "LR Model with **$k=4$** and **$10$** input data"
      ]
    },
    {
      "cell_type": "code",
      "metadata": {
        "colab_type": "code",
        "id": "nKVFtr8VQNqm",
        "colab": {}
      },
      "source": [
        "np.random.seed(seed_number)\n",
        "x = np.random.rand(10, 1) * 20\n",
        "y = 2.358 * x - 3.121\n",
        "y = y + np.random.normal(scale=3, size=y.shape)\n",
        "x = x.reshape(-1, 1)\n",
        "y = y.reshape(-1, 1)"
      ],
      "execution_count": null,
      "outputs": []
    },
    {
      "cell_type": "code",
      "metadata": {
        "colab_type": "code",
        "id": "ZFDBeEvwQNqz",
        "colab": {
          "base_uri": "https://localhost:8080/",
          "height": 34
        },
        "outputId": "6c5b65ea-b64b-41fc-8616-b464922ce23e"
      },
      "source": [
        "lr_model.fit(np.hstack((x, x ** 2, x ** 3, x ** 4)) ,y)\n",
        "print(lr_model.coef_, lr_model.intercept_)"
      ],
      "execution_count": null,
      "outputs": [
        {
          "output_type": "stream",
          "text": [
            "[[ 2.83592498e+01 -2.79183312e+00  1.31022773e-01 -2.28159166e-03]] [-90.20095782]\n"
          ],
          "name": "stdout"
        }
      ]
    },
    {
      "cell_type": "code",
      "metadata": {
        "colab_type": "code",
        "id": "hClO1901QNq4",
        "colab": {
          "base_uri": "https://localhost:8080/",
          "height": 282
        },
        "outputId": "5db040f3-13d3-40ed-fe09-1de496c5e8ce"
      },
      "source": [
        "x_line = np.arange(0, 20, 0.1).reshape(-1,1)\n",
        "y_line = lr_model.predict(np.hstack((x_line, x_line ** 2, x_line ** 3, x_line ** 4)))\n",
        "plt.plot(x_line,y_line)\n",
        "plt.plot(x,y,'ro')"
      ],
      "execution_count": null,
      "outputs": [
        {
          "output_type": "execute_result",
          "data": {
            "text/plain": [
              "[<matplotlib.lines.Line2D at 0x7fa78457ed30>]"
            ]
          },
          "metadata": {
            "tags": []
          },
          "execution_count": 618
        },
        {
          "output_type": "display_data",
          "data": {
            "image/png": "[encoded data removed]",
            "text/plain": [
              "<Figure size 432x288 with 1 Axes>"
            ]
          },
          "metadata": {
            "tags": [],
            "needs_background": "light"
          }
        }
      ]
    },
    {
      "cell_type": "code",
      "metadata": {
        "id": "xuXya90-p3Oo",
        "colab_type": "code",
        "colab": {
          "base_uri": "https://localhost:8080/",
          "height": 34
        },
        "outputId": "e04c8aaa-fbcc-41b9-99fd-73a8dcea878a"
      },
      "source": [
        "error_input10_k4 = np.array(MSE_error(y,lr_model.predict(np.hstack((x, x ** 2, x ** 3, x ** 4)))))\n",
        "print(error_input10_k4)"
      ],
      "execution_count": null,
      "outputs": [
        {
          "output_type": "stream",
          "text": [
            "1.6630908119082073\n"
          ],
          "name": "stdout"
        }
      ]
    },
    {
      "cell_type": "markdown",
      "metadata": {
        "colab_type": "text",
        "id": "0RkUUIhRQlRU"
      },
      "source": [
        "LR Model with **$k=4$** and **$25$** input data"
      ]
    },
    {
      "cell_type": "code",
      "metadata": {
        "colab_type": "code",
        "id": "tDsxxyJ1QlRX",
        "colab": {}
      },
      "source": [
        "np.random.seed(seed_number)\n",
        "x = np.random.rand(25, 1) * 20\n",
        "y = 2.358 * x - 3.121\n",
        "y = y + np.random.normal(scale=3, size=y.shape)\n",
        "x = x.reshape(-1, 1)\n",
        "y = y.reshape(-1, 1)"
      ],
      "execution_count": null,
      "outputs": []
    },
    {
      "cell_type": "code",
      "metadata": {
        "colab_type": "code",
        "id": "8fL4xmxOQlRj",
        "colab": {
          "base_uri": "https://localhost:8080/",
          "height": 34
        },
        "outputId": "1cfa3ec5-d652-4f4b-f1ac-4b6c1c7aebd3"
      },
      "source": [
        "lr_model.fit(np.hstack((x, x ** 2, x ** 3, x ** 4)) ,y)\n",
        "print(lr_model.coef_, lr_model.intercept_)"
      ],
      "execution_count": null,
      "outputs": [
        {
          "output_type": "stream",
          "text": [
            "[[ 4.20825961e-01  1.93596303e-01 -4.30599617e-03 -6.97200775e-05]] [1.51003561]\n"
          ],
          "name": "stdout"
        }
      ]
    },
    {
      "cell_type": "code",
      "metadata": {
        "colab_type": "code",
        "id": "0c_Xxb5WQlRq",
        "colab": {
          "base_uri": "https://localhost:8080/",
          "height": 282
        },
        "outputId": "85792d88-2474-49c7-b622-e7c4b678b4da"
      },
      "source": [
        "x_line = np.arange(0, 20, 0.1).reshape(-1,1)\n",
        "y_line = lr_model.predict(np.hstack((x_line, x_line ** 2, x_line ** 3, x_line ** 4)))\n",
        "plt.plot(x_line,y_line)\n",
        "plt.plot(x,y,'ro')"
      ],
      "execution_count": null,
      "outputs": [
        {
          "output_type": "execute_result",
          "data": {
            "text/plain": [
              "[<matplotlib.lines.Line2D at 0x7fa784566198>]"
            ]
          },
          "metadata": {
            "tags": []
          },
          "execution_count": 622
        },
        {
          "output_type": "display_data",
          "data": {
            "image/png": "[encoded data removed]",
            "text/plain": [
              "<Figure size 432x288 with 1 Axes>"
            ]
          },
          "metadata": {
            "tags": [],
            "needs_background": "light"
          }
        }
      ]
    },
    {
      "cell_type": "code",
      "metadata": {
        "id": "8P_W8OKYp-vE",
        "colab_type": "code",
        "colab": {
          "base_uri": "https://localhost:8080/",
          "height": 34
        },
        "outputId": "b61db1b5-0ced-45c4-9c12-e739ab56b2ba"
      },
      "source": [
        "error_input25_k4 = np.array(MSE_error(y,lr_model.predict(np.hstack((x, x ** 2, x ** 3, x ** 4)))))\n",
        "print(error_input25_k4)"
      ],
      "execution_count": null,
      "outputs": [
        {
          "output_type": "stream",
          "text": [
            "3.1517787918209534\n"
          ],
          "name": "stdout"
        }
      ]
    },
    {
      "cell_type": "markdown",
      "metadata": {
        "colab_type": "text",
        "id": "W6f-ZH85Q2UG"
      },
      "source": [
        "LR Model with **$k=4$** and **$100$** input data"
      ]
    },
    {
      "cell_type": "code",
      "metadata": {
        "colab_type": "code",
        "id": "46VcMOL3Q2UL",
        "colab": {}
      },
      "source": [
        "np.random.seed(seed_number)\n",
        "x = np.random.rand(100, 1) * 20\n",
        "y = 2.358 * x - 3.121\n",
        "y = y + np.random.normal(scale=3, size=y.shape)\n",
        "x = x.reshape(-1, 1)\n",
        "y = y.reshape(-1, 1)"
      ],
      "execution_count": null,
      "outputs": []
    },
    {
      "cell_type": "code",
      "metadata": {
        "colab_type": "code",
        "id": "hbQSVmf2Q2UU",
        "colab": {
          "base_uri": "https://localhost:8080/",
          "height": 34
        },
        "outputId": "20b4a5a6-d57d-431c-897c-b183fb0d120c"
      },
      "source": [
        "lr_model.fit(np.hstack((x, x ** 2, x ** 3, x ** 4)) ,y)\n",
        "print(lr_model.coef_, lr_model.intercept_)"
      ],
      "execution_count": null,
      "outputs": [
        {
          "output_type": "stream",
          "text": [
            "[[ 2.67035306e+00 -2.74380454e-03 -2.19652862e-03  7.99252618e-05]] [-3.47036205]\n"
          ],
          "name": "stdout"
        }
      ]
    },
    {
      "cell_type": "code",
      "metadata": {
        "colab_type": "code",
        "id": "QH4aJ5UrQ2Ub",
        "colab": {
          "base_uri": "https://localhost:8080/",
          "height": 282
        },
        "outputId": "f4a1f967-c9d1-4ca8-c9a0-90df7b2b1e19"
      },
      "source": [
        "x_line = np.arange(0, 20, 0.1).reshape(-1,1)\n",
        "y_line = lr_model.predict(np.hstack((x_line, x_line ** 2, x_line ** 3, x_line ** 4)))\n",
        "plt.plot(x_line,y_line)\n",
        "plt.plot(x,y,'ro')"
      ],
      "execution_count": null,
      "outputs": [
        {
          "output_type": "execute_result",
          "data": {
            "text/plain": [
              "[<matplotlib.lines.Line2D at 0x7fa784b4a2b0>]"
            ]
          },
          "metadata": {
            "tags": []
          },
          "execution_count": 626
        },
        {
          "output_type": "display_data",
          "data": {
            "image/png": "[encoded data removed]",
            "text/plain": [
              "<Figure size 432x288 with 1 Axes>"
            ]
          },
          "metadata": {
            "tags": [],
            "needs_background": "light"
          }
        }
      ]
    },
    {
      "cell_type": "code",
      "metadata": {
        "id": "jIYEbGSaQ6ih",
        "colab_type": "code",
        "colab": {
          "base_uri": "https://localhost:8080/",
          "height": 34
        },
        "outputId": "c7eed23a-311d-4d10-baee-00a24ce2a7ae"
      },
      "source": [
        "error_input100_k4 = np.array(MSE_error(y,lr_model.predict(np.hstack((x, x ** 2, x ** 3, x ** 4)))))\n",
        "print(error_input100_k4)"
      ],
      "execution_count": null,
      "outputs": [
        {
          "output_type": "stream",
          "text": [
            "4.368374687869016\n"
          ],
          "name": "stdout"
        }
      ]
    },
    {
      "cell_type": "markdown",
      "metadata": {
        "id": "a3R9zCaFevJS",
        "colab_type": "text"
      },
      "source": [
        "# **Part 3**"
      ]
    },
    {
      "cell_type": "markdown",
      "metadata": {
        "colab_type": "text",
        "id": "1RBTWfaRRQ1U"
      },
      "source": [
        "LR Model with **$k=16$** and **$5$** input data"
      ]
    },
    {
      "cell_type": "code",
      "metadata": {
        "colab_type": "code",
        "id": "XoAAtugURQ1a",
        "colab": {}
      },
      "source": [
        "np.random.seed(seed_number)\n",
        "x = np.random.rand(5, 1) * 20\n",
        "y = 2.358 * x - 3.121\n",
        "y = y + np.random.normal(scale=3, size=y.shape)\n",
        "x = x.reshape(-1, 1)\n",
        "y = y.reshape(-1, 1)"
      ],
      "execution_count": null,
      "outputs": []
    },
    {
      "cell_type": "code",
      "metadata": {
        "id": "uNGi8aKacT8H",
        "colab_type": "code",
        "colab": {}
      },
      "source": [
        "def line_function(x,k):\n",
        "  x_new = x\n",
        "  for i in range(1,k):\n",
        "    x_new = np.hstack((x_new, x**(i+1)))\n",
        "  return x_new\n",
        "#print(x_new)\n",
        "#print('size_x {}, size_x_new {}'.format(x.shape, x_new.shape))"
      ],
      "execution_count": 43,
      "outputs": []
    },
    {
      "cell_type": "code",
      "metadata": {
        "colab_type": "code",
        "id": "gSGVD2tnRQ1i",
        "colab": {
          "base_uri": "https://localhost:8080/",
          "height": 84
        },
        "outputId": "d2b7bbeb-8e86-4c08-883d-9453cf8090f1"
      },
      "source": [
        "lr_model.fit(line_function(x,16)  ,y)\n",
        "print(lr_model.coef_, lr_model.intercept_)"
      ],
      "execution_count": null,
      "outputs": [
        {
          "output_type": "stream",
          "text": [
            "[[ 2.10977986e+02 -1.70741214e+00 -3.76773529e-01 -2.52909425e-02\n",
            "  -1.14703679e-03 -2.53257980e-05  1.77910347e-06  3.10860965e-07\n",
            "   2.91720266e-08  2.15301796e-09  1.32145054e-10  6.38007736e-12\n",
            "   1.58221233e-13 -1.36480290e-14 -2.90049780e-15 -3.47889416e-16]] [-1248.62459569]\n"
          ],
          "name": "stdout"
        }
      ]
    },
    {
      "cell_type": "code",
      "metadata": {
        "colab_type": "code",
        "id": "FyZKYoTFRQ1q",
        "colab": {
          "base_uri": "https://localhost:8080/",
          "height": 282
        },
        "outputId": "cd053e3e-3a5d-47df-9bc1-b73cbd04d87a"
      },
      "source": [
        "x_line = np.arange(0, 20, 0.1).reshape(-1,1)\n",
        "y_line = lr_model.predict(line_function(x_line,16))\n",
        "plt.plot(x_line,y_line)\n",
        "plt.plot(x,y,'ro')"
      ],
      "execution_count": null,
      "outputs": [
        {
          "output_type": "execute_result",
          "data": {
            "text/plain": [
              "[<matplotlib.lines.Line2D at 0x7fa7866f7cf8>]"
            ]
          },
          "metadata": {
            "tags": []
          },
          "execution_count": 631
        },
        {
          "output_type": "display_data",
          "data": {
            "image/png": "[encoded data removed]",
            "text/plain": [
              "<Figure size 432x288 with 1 Axes>"
            ]
          },
          "metadata": {
            "tags": [],
            "needs_background": "light"
          }
        }
      ]
    },
    {
      "cell_type": "code",
      "metadata": {
        "id": "f-2rDHG8qRuJ",
        "colab_type": "code",
        "colab": {
          "base_uri": "https://localhost:8080/",
          "height": 34
        },
        "outputId": "e884f565-634c-4afe-9e8b-c540171bc45f"
      },
      "source": [
        "error_input5_k16 = np.array(MSE_error(y,lr_model.predict(line_function(x,16))))\n",
        "print(error_input5_k16)"
      ],
      "execution_count": null,
      "outputs": [
        {
          "output_type": "stream",
          "text": [
            "1.6396316142837686e-25\n"
          ],
          "name": "stdout"
        }
      ]
    },
    {
      "cell_type": "markdown",
      "metadata": {
        "colab_type": "text",
        "id": "S0DYLbpUeZxS"
      },
      "source": [
        "LR Model with **$k=16$** and **$10$** input data"
      ]
    },
    {
      "cell_type": "code",
      "metadata": {
        "colab_type": "code",
        "id": "7H42A2r6eZxV",
        "colab": {}
      },
      "source": [
        "np.random.seed(seed_number)\n",
        "x = np.random.rand(10, 1) * 20\n",
        "y = 2.358 * x - 3.121\n",
        "y = y + np.random.normal(scale=3, size=y.shape)\n",
        "x = x.reshape(-1, 1)\n",
        "y = y.reshape(-1, 1)"
      ],
      "execution_count": null,
      "outputs": []
    },
    {
      "cell_type": "code",
      "metadata": {
        "colab_type": "code",
        "id": "Z-ADtcH9eZxl",
        "colab": {
          "base_uri": "https://localhost:8080/",
          "height": 84
        },
        "outputId": "788b6047-0cb6-4f3b-c1fa-d404b5bd7cbb"
      },
      "source": [
        "lr_model.fit(line_function(x,16)  ,y)\n",
        "print(lr_model.coef_, lr_model.intercept_)"
      ],
      "execution_count": null,
      "outputs": [
        {
          "output_type": "stream",
          "text": [
            "[[-1.16144550e+05  2.49676906e+04 -2.43775384e+03  7.47211444e+01\n",
            "   3.66148878e+00 -1.41277810e-01 -1.12133797e-02 -1.41459655e-06\n",
            "   2.74829754e-05  1.18314034e-06 -1.62395654e-08 -3.95893801e-09\n",
            "  -1.46529156e-10  5.17850774e-12  6.82026392e-13 -2.15046697e-14]] [209395.28972459]\n"
          ],
          "name": "stdout"
        }
      ]
    },
    {
      "cell_type": "code",
      "metadata": {
        "colab_type": "code",
        "id": "k7vBaS7ceZxt",
        "colab": {
          "base_uri": "https://localhost:8080/",
          "height": 282
        },
        "outputId": "22c83a92-8045-4da2-fe87-39dd0345c4ce"
      },
      "source": [
        "x_line = np.arange(0, 20, 0.1).reshape(-1,1)\n",
        "y_line = lr_model.predict(line_function(x_line,16))\n",
        "plt.plot(x_line,y_line)\n",
        "plt.plot(x,y,'ro')"
      ],
      "execution_count": null,
      "outputs": [
        {
          "output_type": "execute_result",
          "data": {
            "text/plain": [
              "[<matplotlib.lines.Line2D at 0x7fa7866152e8>]"
            ]
          },
          "metadata": {
            "tags": []
          },
          "execution_count": 635
        },
        {
          "output_type": "display_data",
          "data": {
            "image/png": "[encoded data removed]",
            "text/plain": [
              "<Figure size 432x288 with 1 Axes>"
            ]
          },
          "metadata": {
            "tags": [],
            "needs_background": "light"
          }
        }
      ]
    },
    {
      "cell_type": "code",
      "metadata": {
        "id": "-wGbJ_jxq3q_",
        "colab_type": "code",
        "colab": {
          "base_uri": "https://localhost:8080/",
          "height": 34
        },
        "outputId": "6de6e26d-1cc9-4988-d538-62d313720c40"
      },
      "source": [
        "error_input10_k16 = np.array(MSE_error(y,lr_model.predict(line_function(x,16))))\n",
        "print(error_input10_k16)"
      ],
      "execution_count": null,
      "outputs": [
        {
          "output_type": "stream",
          "text": [
            "3.832583436620542e-18\n"
          ],
          "name": "stdout"
        }
      ]
    },
    {
      "cell_type": "markdown",
      "metadata": {
        "colab_type": "text",
        "id": "dE_yaOste_YV"
      },
      "source": [
        "LR Model with **$k=16$** and **$25$** input data"
      ]
    },
    {
      "cell_type": "code",
      "metadata": {
        "colab_type": "code",
        "id": "92oPaB3ce_YX",
        "colab": {}
      },
      "source": [
        "np.random.seed(seed_number)\n",
        "x = np.random.rand(25, 1) * 20\n",
        "y = 2.358 * x - 3.121\n",
        "y = y + np.random.normal(scale=3, size=y.shape)\n",
        "x = x.reshape(-1, 1)\n",
        "y = y.reshape(-1, 1)"
      ],
      "execution_count": null,
      "outputs": []
    },
    {
      "cell_type": "code",
      "metadata": {
        "colab_type": "code",
        "id": "f9BgXPRGe_Yc",
        "colab": {
          "base_uri": "https://localhost:8080/",
          "height": 84
        },
        "outputId": "d3226f2a-bef3-403d-db27-aa4d9c55b3ff"
      },
      "source": [
        "lr_model.fit(line_function(x,16)  ,y)\n",
        "print(lr_model.coef_, lr_model.intercept_)"
      ],
      "execution_count": null,
      "outputs": [
        {
          "output_type": "stream",
          "text": [
            "[[ 1.95648100e+04 -3.68860444e+04  3.62053796e+04 -2.14127457e+04\n",
            "   8.28852405e+03 -2.21841033e+03  4.26111265e+02 -6.01791747e+01\n",
            "   6.33695566e+00 -5.00032459e-01  2.94487135e-02 -1.27568265e-03\n",
            "   3.94622702e-05 -8.25013763e-07  1.04453262e-08 -6.04830218e-11]] [-3778.82766419]\n"
          ],
          "name": "stdout"
        }
      ]
    },
    {
      "cell_type": "code",
      "metadata": {
        "colab_type": "code",
        "id": "ys_i7IHZe_Yl",
        "colab": {}
      },
      "source": [
        "x_line = np.arange(0, 20, 0.1).reshape(-1,1)\n",
        "y_line = lr_model.predict(line_function(x_line,16))\n",
        "plt.plot(x_line,y_line)\n",
        "plt.plot(x,y,'ro')\n",
        "#plt.ylim((0, 30))"
      ],
      "execution_count": null,
      "outputs": []
    },
    {
      "cell_type": "code",
      "metadata": {
        "id": "l7JsYR7_KuN_",
        "colab_type": "code",
        "colab": {}
      },
      "source": [
        "#print(y)"
      ],
      "execution_count": null,
      "outputs": []
    },
    {
      "cell_type": "code",
      "metadata": {
        "id": "t3Ymrf4MK3JQ",
        "colab_type": "code",
        "colab": {}
      },
      "source": [
        "#print(lr_model.predict(line_function(x,16)))"
      ],
      "execution_count": null,
      "outputs": []
    },
    {
      "cell_type": "code",
      "metadata": {
        "id": "0ZZSoD0mrAEg",
        "colab_type": "code",
        "colab": {
          "base_uri": "https://localhost:8080/",
          "height": 34
        },
        "outputId": "265adfab-18c1-4542-ef39-455c9d88d8f9"
      },
      "source": [
        "error_input25_k16 = (MSE_error(y,lr_model.predict(line_function(x,16))))\n",
        "print(error_input25_k16)"
      ],
      "execution_count": null,
      "outputs": [
        {
          "output_type": "stream",
          "text": [
            "1.3685880205869867\n"
          ],
          "name": "stdout"
        }
      ]
    },
    {
      "cell_type": "markdown",
      "metadata": {
        "colab_type": "text",
        "id": "PRTQVDnGfR34"
      },
      "source": [
        "LR Model with **$k=16$** and **$100$** input data\n",
        "\n",
        "> Indented block\n",
        "\n"
      ]
    },
    {
      "cell_type": "code",
      "metadata": {
        "colab_type": "code",
        "id": "kvVl9aUZfR37",
        "colab": {}
      },
      "source": [
        "np.random.seed(seed_number)\n",
        "x = np.random.rand(100, 1) * 20\n",
        "y = 2.358 * x - 3.121\n",
        "y = y + np.random.normal(scale=3, size=y.shape)\n",
        "x = x.reshape(-1, 1)\n",
        "y = y.reshape(-1, 1)"
      ],
      "execution_count": null,
      "outputs": []
    },
    {
      "cell_type": "code",
      "metadata": {
        "colab_type": "code",
        "id": "HYx2DToRfR4N",
        "colab": {
          "base_uri": "https://localhost:8080/",
          "height": 84
        },
        "outputId": "c9c54fe7-0f6e-44a4-9729-cfa1f32ddead"
      },
      "source": [
        "lr_model.fit(line_function(x,16)  ,y)\n",
        "print(lr_model.coef_, lr_model.intercept_)"
      ],
      "execution_count": null,
      "outputs": [
        {
          "output_type": "stream",
          "text": [
            "[[-1.84318383e+01  4.60819781e+01 -3.35909111e+01  3.71890950e+00\n",
            "   7.93699397e+00 -5.39181248e+00  1.79551874e+00 -3.77505041e-01\n",
            "   5.43101417e-02 -5.53336957e-03  4.04046080e-04 -2.10430504e-05\n",
            "   7.63856430e-07 -1.83747395e-08  2.63365389e-10 -1.70302611e-12]] [-1.37931603]\n"
          ],
          "name": "stdout"
        }
      ]
    },
    {
      "cell_type": "code",
      "metadata": {
        "colab_type": "code",
        "id": "WRzMh96kfR4W",
        "colab": {
          "base_uri": "https://localhost:8080/",
          "height": 282
        },
        "outputId": "095194d6-9235-43d8-930d-83b388541813"
      },
      "source": [
        "x_line = np.arange(0, 20, 0.1).reshape(-1,1)\n",
        "y_line = lr_model.predict(line_function(x_line,16))\n",
        "plt.plot(x_line,y_line)\n",
        "plt.plot(x,y,'ro')"
      ],
      "execution_count": null,
      "outputs": [
        {
          "output_type": "execute_result",
          "data": {
            "text/plain": [
              "[<matplotlib.lines.Line2D at 0x7fa78893f9b0>]"
            ]
          },
          "metadata": {
            "tags": []
          },
          "execution_count": 645
        },
        {
          "output_type": "display_data",
          "data": {
            "image/png": "[encoded data removed]",
            "text/plain": [
              "<Figure size 432x288 with 1 Axes>"
            ]
          },
          "metadata": {
            "tags": [],
            "needs_background": "light"
          }
        }
      ]
    },
    {
      "cell_type": "code",
      "metadata": {
        "id": "8MZQD5YMfVsg",
        "colab_type": "code",
        "colab": {
          "base_uri": "https://localhost:8080/",
          "height": 34
        },
        "outputId": "6f5dc08b-b874-4e81-86f1-5dd98ed2b9b8"
      },
      "source": [
        "error_input100_k16 = np.array(MSE_error(y,lr_model.predict(line_function(x,16))))\n",
        "print(error_input100_k16)"
      ],
      "execution_count": null,
      "outputs": [
        {
          "output_type": "stream",
          "text": [
            "4.02756044255477\n"
          ],
          "name": "stdout"
        }
      ]
    },
    {
      "cell_type": "markdown",
      "metadata": {
        "id": "-dlEtiYbfj8g",
        "colab_type": "text"
      },
      "source": [
        "# **Part 4**"
      ]
    },
    {
      "cell_type": "markdown",
      "metadata": {
        "id": "m_80-msiteZ6",
        "colab_type": "text"
      },
      "source": [
        "LR Model with **$k\\in\\{1, ..., 10\\}$** and **$5$** input data\n"
      ]
    },
    {
      "cell_type": "code",
      "metadata": {
        "id": "ZmaSeZD4su10",
        "colab_type": "code",
        "colab": {}
      },
      "source": [
        "np.random.seed(seed_number)\n",
        "x = np.random.rand(5, 1) * 20\n",
        "y = 2.358 * x - 3.121\n",
        "y = y + np.random.normal(scale=3, size=y.shape)\n",
        "x = x.reshape(-1, 1)\n",
        "y = y.reshape(-1, 1)\n",
        "# print(x)\n",
        "# print(y)"
      ],
      "execution_count": 55,
      "outputs": []
    },
    {
      "cell_type": "code",
      "metadata": {
        "id": "7W9pZI4MuETl",
        "colab_type": "code",
        "colab": {}
      },
      "source": [
        "def main_function_error(num_inputs, K, seed_number):\n",
        "  np.random.seed(seed_number)\n",
        "  x = np.random.rand(num_inputs, 1) * 20\n",
        "  y = 2.358 * x - 3.121\n",
        "  y = y + np.random.normal(scale=3, size=y.shape)\n",
        "  x = x.reshape(-1, 1)\n",
        "  y = y.reshape(-1, 1)\n",
        "  # print('x = {}'. format(x))\n",
        "  # print('y = {}'. format(y))\n",
        "  # print('K = {}'. format(K))\n",
        "  my_error = np.zeros(K)\n",
        "  #print(my_error)\n",
        "  for k in range(1, K+1):\n",
        "    lr_model.fit(line_function(x,k)  ,y)\n",
        "    # print(lr_model.coef_, lr_model.intercept_)\n",
        "    y_predict = lr_model.predict(line_function(x,k))\n",
        "    my_error[k-1] = MSE_error(y, y_predict)\n",
        "    # print('error = {}'.format(my_error[k-1]))\n",
        "  return my_error"
      ],
      "execution_count": 56,
      "outputs": []
    },
    {
      "cell_type": "code",
      "metadata": {
        "id": "k5xVUvGcypb7",
        "colab_type": "code",
        "colab": {}
      },
      "source": [
        "mse_error_input5_k1 = main_function_error(5, 20, seed_number)\n",
        "#print(mse_error_input5_k1)"
      ],
      "execution_count": 57,
      "outputs": []
    },
    {
      "cell_type": "code",
      "metadata": {
        "id": "We6NCyElynxm",
        "colab_type": "code",
        "colab": {}
      },
      "source": [
        "mse_error_input10_k1 = main_function_error(10, 20, seed_number)\n",
        "#print(mse_error_input10_k1)"
      ],
      "execution_count": 58,
      "outputs": []
    },
    {
      "cell_type": "code",
      "metadata": {
        "id": "nBFTVlGO-Vkr",
        "colab_type": "code",
        "colab": {}
      },
      "source": [
        "mse_error_input25_k1 = main_function_error(25, 20, seed_number)\n",
        "#print(mse_error_input25_k1)"
      ],
      "execution_count": 59,
      "outputs": []
    },
    {
      "cell_type": "code",
      "metadata": {
        "id": "WJJcbylF-akP",
        "colab_type": "code",
        "colab": {}
      },
      "source": [
        "mse_error_input100_k1 = main_function_error(100, 20, seed_number)\n",
        "#print(mse_error_input100_k1)"
      ],
      "execution_count": 60,
      "outputs": []
    },
    {
      "cell_type": "code",
      "metadata": {
        "id": "F7imaRvX-h1C",
        "colab_type": "code",
        "colab": {
          "base_uri": "https://localhost:8080/",
          "height": 296
        },
        "outputId": "1261dd88-a44f-473c-e85a-41b1800935f4"
      },
      "source": [
        "plt.plot(np.arange(1, 21), mse_error_input5_k1, 'b*-', label = 'Num_inputs = 5')\n",
        "plt.plot(np.arange(1, 21), mse_error_input10_k1, 'ro-', label = 'Num_inputs = 10')\n",
        "plt.plot(np.arange(1, 21), mse_error_input25_k1, 'gs-', label = 'Num_inputs = 25')\n",
        "plt.plot(np.arange(1, 21), mse_error_input100_k1, 'k+-', label = 'Num_inputs = 100')\n",
        "\n",
        "plt.xlabel(\"The degree of hypothesis function (K)\")\n",
        "plt.ylabel(\"MSE error\")\n",
        "plt.legend()\n",
        "#plt.grid(color='k', ls = '--', lw = 0.4)"
      ],
      "execution_count": 61,
      "outputs": [
        {
          "output_type": "execute_result",
          "data": {
            "text/plain": [
              "<matplotlib.legend.Legend at 0x7ff62e5eaeb8>"
            ]
          },
          "metadata": {
            "tags": []
          },
          "execution_count": 61
        },
        {
          "output_type": "display_data",
          "data": {
            "image/png": "[encoded data removed]",
            "text/plain": [
              "<Figure size 432x288 with 1 Axes>"
            ]
          },
          "metadata": {
            "tags": [],
            "needs_background": "light"
          }
        }
      ]
    },
    {
      "cell_type": "markdown",
      "metadata": {
        "id": "J62VsZP7a_n2",
        "colab_type": "text"
      },
      "source": [
        "# **Polynomial Regression with Montecarlo Simulations**\n",
        "\n",
        "\n",
        "\n",
        "\n"
      ]
    },
    {
      "cell_type": "code",
      "metadata": {
        "id": "xzemLcPdbINB",
        "colab_type": "code",
        "colab": {}
      },
      "source": [
        "def error_vs_k (num_inputs, total_seed, max_K):\n",
        "  # num_inputs = 100\n",
        "  # total_seed = 200\n",
        "  # max_K = 10\n",
        "  total_error_vs_K = np.zeros(max_K)\n",
        "  total_score_vs_K = np.zeros(max_K)\n",
        "  for K in range(1,max_K+1):\n",
        "    #K = 16 # Degree of Poly\n",
        "    error_total_matrix = np.zeros(total_seed) \n",
        "    mymodel_score = np.zeros(total_seed) \n",
        "    for seed_number in range(1, total_seed+1):\n",
        "      np.random.seed(seed_number)\n",
        "      x = np.random.rand(num_inputs, 1) * 20\n",
        "      y = 2.358 * x - 3.121\n",
        "      y = y + np.random.normal(scale=3, size=y.shape)\n",
        "      x = x.reshape(-1, 1)\n",
        "      y = y.reshape(-1, 1)\n",
        "      mymodel = np.poly1d(np.polyfit(x[:,0], y[:,0], K))\n",
        "      x_line = np.arange(0, 20, 0.1).reshape(-1,1)\n",
        "    # plt.scatter(x, y)\n",
        "    # plt.plot(x_line,mymodel(x_line), 'r--')\n",
        "      #print(MSE_error(y, mymodel(x)))\n",
        "      error_total_matrix [seed_number-1] = (np.square(np.subtract(y,mymodel(x))).mean())/2\n",
        "      mymodel_score [seed_number-1] =(1 - (2 * error_total_matrix [seed_number-1] / y.var()))\n",
        "    total_error_vs_K[K-1] = error_total_matrix.mean()\n",
        "    total_score_vs_K [K-1] = mymodel_score.mean()\n",
        "  #print(total_error_vs_K)\n",
        "  return total_error_vs_K, total_score_vs_K\n"
      ],
      "execution_count": 17,
      "outputs": []
    },
    {
      "cell_type": "markdown",
      "metadata": {
        "id": "NNAHUwbeUDiN",
        "colab_type": "text"
      },
      "source": [
        "# **Test with Different Data**"
      ]
    },
    {
      "cell_type": "code",
      "metadata": {
        "id": "zY5MZhU3c-QZ",
        "colab_type": "code",
        "colab": {}
      },
      "source": [
        "#error_vs_k (num_inputs = 5, total_seed= 200, max_K= 10)"
      ],
      "execution_count": null,
      "outputs": []
    },
    {
      "cell_type": "code",
      "metadata": {
        "id": "3WW3jMmmwwkD",
        "colab_type": "code",
        "colab": {
          "base_uri": "https://localhost:8080/",
          "height": 296
        },
        "outputId": "53dfdb7d-ac56-49d0-ef91-af36204f0a68"
      },
      "source": [
        "plt.plot(np.arange(1, 11), error_vs_k (5, 500, 10), 'b*-', label = 'Num_inputs = 5')\n",
        "plt.plot(np.arange(1, 11), error_vs_k (10, 500, 10), 'ro-', label = 'Num_inputs = 10')\n",
        "plt.plot(np.arange(1, 11), error_vs_k (25, 500, 10), 'gs-', label = 'Num_inputs = 25')\n",
        "plt.plot(np.arange(1, 11), error_vs_k (100, 500, 10), 'k+-', label = 'Num_inputs = 100')\n",
        "plt.plot(np.arange(1, 11), error_vs_k (200, 500, 10), 'y--', label = 'Num_inputs = 200')\n",
        "\n",
        "plt.xlabel(\"The degree of hypothesis function (K)\")\n",
        "plt.ylabel(\"MSE error\")\n",
        "plt.legend()"
      ],
      "execution_count": null,
      "outputs": [
        {
          "output_type": "execute_result",
          "data": {
            "text/plain": [
              "<matplotlib.legend.Legend at 0x7fa784b989e8>"
            ]
          },
          "metadata": {
            "tags": []
          },
          "execution_count": 659
        },
        {
          "output_type": "display_data",
          "data": {
            "image/png": "[encoded data removed]",
            "text/plain": [
              "<Figure size 432x288 with 1 Axes>"
            ]
          },
          "metadata": {
            "tags": [],
            "needs_background": "light"
          }
        }
      ]
    },
    {
      "cell_type": "code",
      "metadata": {
        "id": "txs3FokUK2SZ",
        "colab_type": "code",
        "colab": {}
      },
      "source": [
        "\n",
        "# fig, (ax1, ax2) = plt.subplots(1, 2)\n",
        "# ax1.plot(np.arange(1, 11), error_vs_k (5, 500, 10)[0], 'b*-', label = 'Num_inputs = 5')\n",
        "# ax1.plot(np.arange(1, 11), error_vs_k (10, 500, 10)[0], 'ro-', label = 'Num_inputs = 10')\n",
        "# ax1.plot(np.arange(1, 11), error_vs_k (25, 500, 10)[0], 'gs-', label = 'Num_inputs = 25')\n",
        "# ax1.plot(np.arange(1, 11), error_vs_k (100, 500, 10)[0], 'k+-', label = 'Num_inputs = 100')\n",
        "# ax1.plot(np.arange(1, 11), error_vs_k (200, 500, 10)[0], 'y--', label = 'Num_inputs = 200')\n",
        "# ax1.set(xlabel=\"The degree of hypothesis function (K)\" , ylabel=\"MSE error\")\n",
        "# ax1.legend()\n",
        "\n",
        "# ax2.plot(np.arange(1, 11), error_vs_k (5, 500, 10)[1], 'b*-', label = 'Num_inputs = 5')\n",
        "# ax2.plot(np.arange(1, 11), error_vs_k (10, 500, 10)[1], 'ro-', label = 'Num_inputs = 10')\n",
        "# ax2.plot(np.arange(1, 11), error_vs_k (25, 500, 10)[1], 'gs-', label = 'Num_inputs = 25')\n",
        "# ax2.plot(np.arange(1, 11), error_vs_k (100, 500, 10)[1], 'k+-', label = 'Num_inputs = 100')\n",
        "# ax2.plot(np.arange(1, 11), error_vs_k (200, 500, 10)[1], 'y--', label = 'Num_inputs = 200')\n",
        "# ax2.set(xlabel=\"The degree of hypothesis function (K)\" , ylabel=\"Score\")\n",
        "# ax2.legend()\n"
      ],
      "execution_count": null,
      "outputs": []
    },
    {
      "cell_type": "code",
      "metadata": {
        "colab_type": "code",
        "id": "4i5BECBqQsLP",
        "colab": {
          "base_uri": "https://localhost:8080/",
          "height": 558
        },
        "outputId": "299615aa-9df1-4576-e334-60128af1a8d3"
      },
      "source": [
        "plt.figure(0)\n",
        "\n",
        "plt.plot(np.arange(1, 11), error_vs_k (5, 500, 10)[0], 'b*-', label = 'Num_inputs = 5')\n",
        "plt.plot(np.arange(1, 11), error_vs_k (10, 500, 10)[0], 'ro-', label = 'Num_inputs = 10')\n",
        "plt.plot(np.arange(1, 11), error_vs_k (25, 500, 10)[0], 'gs-', label = 'Num_inputs = 25')\n",
        "plt.plot(np.arange(1, 11), error_vs_k (100, 500, 10)[0], 'k+-', label = 'Num_inputs = 100')\n",
        "plt.plot(np.arange(1, 11), error_vs_k (200, 500, 10)[0], 'y--', label = 'Num_inputs = 200')\n",
        "plt.xlabel(\"The degree of hypothesis function (K)\")\n",
        "plt.ylabel(\"Average MSE errors\")\n",
        "plt.legend()\n",
        "\n",
        "plt.figure(1)\n",
        "plt.plot(np.arange(1, 11), error_vs_k (5, 500, 10)[1], 'b*-', label = 'Num_inputs = 5')\n",
        "plt.plot(np.arange(1, 11), error_vs_k (10, 500, 10)[1], 'ro-', label = 'Num_inputs = 10')\n",
        "plt.plot(np.arange(1, 11), error_vs_k (25, 500, 10)[1], 'gs-', label = 'Num_inputs = 25')\n",
        "plt.plot(np.arange(1, 11), error_vs_k (100, 500, 10)[1], 'k+-', label = 'Num_inputs = 100')\n",
        "plt.plot(np.arange(1, 11), error_vs_k (200, 500, 10)[1], 'y--', label = 'Num_inputs = 200')\n",
        "plt.xlabel(\"The degree of hypothesis function (K)\")\n",
        "plt.ylabel(\"Average scores\")\n",
        "plt.legend()\n"
      ],
      "execution_count": 31,
      "outputs": [
        {
          "output_type": "execute_result",
          "data": {
            "text/plain": [
              "<matplotlib.legend.Legend at 0x7ff62e9a6c50>"
            ]
          },
          "metadata": {
            "tags": []
          },
          "execution_count": 31
        },
        {
          "output_type": "display_data",
          "data": {
            "image/png": "[encoded data removed]",
            "text/plain": [
              "<Figure size 432x288 with 1 Axes>"
            ]
          },
          "metadata": {
            "tags": [],
            "needs_background": "light"
          }
        },
        {
          "output_type": "display_data",
          "data": {
            "image/png": "[encoded data removed]",
            "text/plain": [
              "<Figure size 432x288 with 1 Axes>"
            ]
          },
          "metadata": {
            "tags": [],
            "needs_background": "light"
          }
        }
      ]
    },
    {
      "cell_type": "code",
      "metadata": {
        "id": "-Nn8v_CETsNw",
        "colab_type": "code",
        "colab": {}
      },
      "source": [
        ""
      ],
      "execution_count": null,
      "outputs": []
    },
    {
      "cell_type": "code",
      "metadata": {
        "colab_type": "code",
        "id": "PfnMh-XDUcyf",
        "colab": {}
      },
      "source": [
        "def error_vs_k_test (num_inputs_train, num_input_test, total_seed, max_K):\n",
        "  # num_inputs = 100\n",
        "  # total_seed = 200\n",
        "  # max_K = 10\n",
        "  total_error_vs_K = np.zeros(max_K)\n",
        "  total_score_vs_K = np.zeros(max_K)\n",
        "  for K in range(1,max_K+1):\n",
        "    #K = 16 # Degree of Poly\n",
        "    error_total_matrix = np.zeros(total_seed) \n",
        "    mymodel_score = np.zeros(total_seed) \n",
        "    for seed_number in range(1, total_seed+1):\n",
        "      np.random.seed(seed_number)\n",
        "      x = np.random.rand(num_inputs_train, 1) * 20\n",
        "      y = 2.358 * x - 3.121\n",
        "      y = y + np.random.normal(scale=3, size=y.shape)\n",
        "      x = x.reshape(-1, 1)\n",
        "      y = y.reshape(-1, 1)\n",
        "      mymodel = np.poly1d(np.polyfit(x[:,0], y[:,0], K))\n",
        "      np.random.seed(2 * seed_number)\n",
        "      x_tets = np.random.rand(num_input_test, 1) * 20\n",
        "      y_tets = 2.358 * x_tets - 3.121\n",
        "      y_tets = y_tets + np.random.normal(scale=3, size=y_tets.shape)\n",
        "      x_tets = x_tets.reshape(-1, 1)\n",
        "      y_tets = y_tets.reshape(-1, 1)\n",
        "      error_total_matrix [seed_number-1] = (np.square(np.subtract(y_tets,mymodel(x_tets))).mean())/2\n",
        "      mymodel_score [seed_number-1] =(1 - (2 * error_total_matrix [seed_number-1] / y_tets.var()))\n",
        "    total_error_vs_K[K-1] = error_total_matrix.mean()\n",
        "    total_score_vs_K [K-1] = mymodel_score.mean()\n",
        "  #print(total_error_vs_K)\n",
        "  return total_error_vs_K, total_score_vs_K\n"
      ],
      "execution_count": 32,
      "outputs": []
    },
    {
      "cell_type": "code",
      "metadata": {
        "colab_type": "code",
        "id": "7RtOiAViVtup",
        "colab": {
          "base_uri": "https://localhost:8080/",
          "height": 558
        },
        "outputId": "0ac43c23-4e14-487f-97b3-6703d82d94b9"
      },
      "source": [
        "error_vs_k_test (5, 50, 100, 10)\n",
        "plt.figure(0)\n",
        "\n",
        "#plt.plot(np.arange(1, 11), error_vs_k_test (5, 100, 200, 10)[0], 'b*-', label = 'Num_inputs = 5')\n",
        "#plt.plot(np.arange(1, 11), error_vs_k_test (10, 100, 200, 10)[0], 'ro-', label = 'Num_inputs = 10')\n",
        "#plt.plot(np.arange(1, 11), error_vs_k_test (25, 100, 200, 10)[0], 'gs-', label = 'Num_inputs = 25')\n",
        "plt.plot(np.arange(1, 11), error_vs_k_test (100, 100, 200, 10)[0], 'k+-', label = 'Num_inputs = 100')\n",
        "plt.plot(np.arange(1, 11), error_vs_k_test (200, 100, 200, 10)[0], 'y--', label = 'Num_inputs = 200')\n",
        "plt.xlabel(\"The degree of hypothesis function (K)\")\n",
        "plt.ylabel(\"Average MSE errors\")\n",
        "plt.legend()\n",
        "\n",
        "plt.figure(1)\n",
        "#plt.plot(np.arange(1, 11), error_vs_k_test(5, 100, 200, 10)[1], 'b*-', label = 'Num_inputs = 5')\n",
        "#plt.plot(np.arange(1, 11), error_vs_k_test (10, 100, 200, 10)[1], 'ro-', label = 'Num_inputs = 10')\n",
        "#plt.plot(np.arange(1, 11), error_vs_k_test (25, 100, 200, 10)[1], 'gs-', label = 'Num_inputs = 25')\n",
        "plt.plot(np.arange(1, 11), error_vs_k_test (100, 100, 200, 10)[1], 'k+-', label = 'Num_inputs = 100')\n",
        "plt.plot(np.arange(1, 11), error_vs_k_test (200, 100, 200, 10)[1], 'y--', label = 'Num_inputs = 200')\n",
        "plt.xlabel(\"The degree of hypothesis function (K)\")\n",
        "plt.ylabel(\"Average scores\")\n",
        "plt.legend()\n"
      ],
      "execution_count": 44,
      "outputs": [
        {
          "output_type": "execute_result",
          "data": {
            "text/plain": [
              "<matplotlib.legend.Legend at 0x7ff62eb3c6d8>"
            ]
          },
          "metadata": {
            "tags": []
          },
          "execution_count": 44
        },
        {
          "output_type": "display_data",
          "data": {
            "image/png": "[encoded data removed]",
            "text/plain": [
              "<Figure size 432x288 with 1 Axes>"
            ]
          },
          "metadata": {
            "tags": [],
            "needs_background": "light"
          }
        },
        {
          "output_type": "display_data",
          "data": {
            "image/png": "[encoded data removed]",
            "text/plain": [
              "<Figure size 432x288 with 1 Axes>"
            ]
          },
          "metadata": {
            "tags": [],
            "needs_background": "light"
          }
        }
      ]
    }
  ]
}