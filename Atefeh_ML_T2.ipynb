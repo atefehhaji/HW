{
  "nbformat": 4,
  "nbformat_minor": 0,
  "metadata": {
    "colab": {
      "name": "Atefeh-ML-T2.ipynb",
      "provenance": [],
      "collapsed_sections": [],
      "toc_visible": true,
      "authorship_tag": "ABX9TyOjSs7t2VdtLYqiqkPruxJu",
      "include_colab_link": true
    },
    "kernelspec": {
      "name": "python3",
      "display_name": "Python 3"
    }
  },
  "cells": [
    {
      "cell_type": "markdown",
      "metadata": {
        "id": "view-in-github",
        "colab_type": "text"
      },
      "source": [
        "<a href=\"https://colab.research.google.com/github/atefehhaji/HW/blob/master/Atefeh_ML_T2.ipynb\" target=\"_parent\"><img src=\"https://colab.research.google.com/assets/colab-badge.svg\" alt=\"Open In Colab\"/></a>"
      ]
    },
    {
      "cell_type": "markdown",
      "metadata": {
        "id": "5u8n8hcZEbay",
        "colab_type": "text"
      },
      "source": [
        "# **HW 2**\n",
        "\n",
        "# ---\n",
        "\n",
        "\n",
        "Created by **Atefeh Hajijamali Arani**, August 13, 2020"
      ]
    },
    {
      "cell_type": "code",
      "metadata": {
        "id": "xAJApsiaEU-J",
        "colab_type": "code",
        "colab": {}
      },
      "source": [
        "import numpy as np\n",
        "import pandas as pd\n",
        "import matplotlib.pyplot as plt\n",
        "from sklearn.linear_model import LinearRegression\n",
        "from sklearn.model_selection import train_test_split, KFold, learning_curve\n",
        "from sklearn.metrics import accuracy_score, precision_score, recall_score, f1_score,roc_auc_score\n",
        "import warnings\n",
        "warnings.filterwarnings('ignore')\n",
        "%matplotlib inline"
      ],
      "execution_count": null,
      "outputs": []
    },
    {
      "cell_type": "code",
      "metadata": {
        "id": "sT-A8ltuEU68",
        "colab_type": "code",
        "colab": {}
      },
      "source": [
        "lr_model = LinearRegression(normalize=True)\n",
        "seed_number = 42"
      ],
      "execution_count": null,
      "outputs": []
    },
    {
      "cell_type": "markdown",
      "metadata": {
        "id": "rW4M7lwVFk--",
        "colab_type": "text"
      },
      "source": [
        ""
      ]
    },
    {
      "cell_type": "markdown",
      "metadata": {
        "id": "Dqa-YsEPFmYT",
        "colab_type": "text"
      },
      "source": [
        "# **Genrating Data**"
      ]
    },
    {
      "cell_type": "code",
      "metadata": {
        "id": "hZSNFcz8Fuq9",
        "colab_type": "code",
        "colab": {
          "base_uri": "https://localhost:8080/",
          "height": 34
        },
        "outputId": "e8815c44-2776-4651-b391-476a862c1ff8"
      },
      "source": [
        "x = np.random.rand(200, 1)\n",
        "#x.shape\n",
        "y = x + x ** 2 + x ** 3 + x ** 4\n",
        "y = y + np.random.normal(scale=1, size=y.shape)\n",
        "y.shape"
      ],
      "execution_count": null,
      "outputs": [
        {
          "output_type": "execute_result",
          "data": {
            "text/plain": [
              "(200, 1)"
            ]
          },
          "metadata": {
            "tags": []
          },
          "execution_count": 17
        }
      ]
    },
    {
      "cell_type": "code",
      "metadata": {
        "id": "NoaUGUVYF8EQ",
        "colab_type": "code",
        "colab": {
          "base_uri": "https://localhost:8080/",
          "height": 52
        },
        "outputId": "c139329b-df7f-438d-9993-1544609a67f4"
      },
      "source": [
        "x_train, x_test, y_train, y_test = train_test_split(x, y, test_size=0.2, random_state=42)\n",
        "print(x_test.shape)\n",
        "print(x_train.shape)"
      ],
      "execution_count": 27,
      "outputs": [
        {
          "output_type": "stream",
          "text": [
            "(40, 1)\n",
            "(160, 1)\n"
          ],
          "name": "stdout"
        }
      ]
    },
    {
      "cell_type": "markdown",
      "metadata": {
        "id": "LyOW_EVLZTnj",
        "colab_type": "text"
      },
      "source": [
        "# **Part 1**"
      ]
    },
    {
      "cell_type": "markdown",
      "metadata": {
        "id": "5w6rthssbp8K",
        "colab_type": "text"
      },
      "source": [
        "*   The degree of the polynomial features = 1"
      ]
    },
    {
      "cell_type": "code",
      "metadata": {
        "id": "xVxYP2XGZXfg",
        "colab_type": "code",
        "colab": {
          "base_uri": "https://localhost:8080/",
          "height": 300
        },
        "outputId": "40141393-61cf-4a19-d2d8-2fc8ed1fe34f"
      },
      "source": [
        "lr_model.fit(x_train ,y_train)\n",
        "y_predict = lr_model.predict(X_test)\n",
        "\n",
        "plt.plot(x_test,y_test, 'co')\n",
        "plt.plot(x_train, y_train, 'bo')\n",
        "\n",
        "x_line = np.arange(-0.25, 1.25, 0.1).reshape(-1,1)\n",
        "y_line = lr_model.predict(x_line)\n",
        "plt.plot(x_line,y_line, 'r--')\n",
        "\n",
        "print('Score of train set = {}\\nScore of test set = {}' .format(lr_model.score(x_train,y_train),lr_model.score(x_test,y_test)))"
      ],
      "execution_count": 35,
      "outputs": [
        {
          "output_type": "stream",
          "text": [
            "Score of train set = 0.6235132555966874\n",
            "Score of test set = 0.37759468764911086\n"
          ],
          "name": "stdout"
        },
        {
          "output_type": "display_data",
          "data": {
            "image/png": "[encoded data removed]",
            "text/plain": [
              "<Figure size 432x288 with 1 Axes>"
            ]
          },
          "metadata": {
            "tags": [],
            "needs_background": "light"
          }
        }
      ]
    },
    {
      "cell_type": "markdown",
      "metadata": {
        "colab_type": "text",
        "id": "CvN8juG9cGjB"
      },
      "source": [
        "*   The degree of the polynomial features = 2"
      ]
    },
    {
      "cell_type": "code",
      "metadata": {
        "colab_type": "code",
        "id": "YYeK2kQJcKSw",
        "colab": {
          "base_uri": "https://localhost:8080/",
          "height": 300
        },
        "outputId": "d1518b0d-48fb-4bc8-f830-7305c96ed866"
      },
      "source": [
        "from sklearn.preprocessing import PolynomialFeatures  \n",
        "poly_features = PolynomialFeatures(degree = 2)  \n",
        "x_poly_train = poly_features.fit_transform(x_train)\n",
        "# print(x_train[0], x_poly[0])\n",
        "# print(x_poly.shape, x_train.shape)\n",
        "lr_model.fit(x_poly_train, y_train)\n",
        "\n",
        "x_poly_test = poly_features.fit_transform(x_test)\n",
        "y_poly_predict= lr_model.predict(x_poly_test)\n",
        "\n",
        "plt.plot(x_test,y_test, 'co')\n",
        "plt.plot(x_train, y_train, 'bo')\n",
        "\n",
        "x_line = np.arange(-0.25, 1.25, 0.1).reshape(-1,1)\n",
        "y_line = lr_model.predict(poly_features.fit_transform(x_line))\n",
        "plt.plot(x_line,y_line, 'r--')\n",
        "\n",
        "print('Score of train set = {}\\nScore of test set = {}' .format(lr_model.score(x_poly_train,y_train),lr_model.score(x_poly_test,y_test)))"
      ],
      "execution_count": 40,
      "outputs": [
        {
          "output_type": "stream",
          "text": [
            "Score of train set = 0.6681424728297379\n",
            "Score of test set = 0.3500637031581102\n"
          ],
          "name": "stdout"
        },
        {
          "output_type": "display_data",
          "data": {
            "image/png": "[encoded data removed]",
            "text/plain": [
              "<Figure size 432x288 with 1 Axes>"
            ]
          },
          "metadata": {
            "tags": [],
            "needs_background": "light"
          }
        }
      ]
    }
  ]
}