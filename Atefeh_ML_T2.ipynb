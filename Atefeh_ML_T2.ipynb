{
  "nbformat": 4,
  "nbformat_minor": 0,
  "metadata": {
    "colab": {
      "name": "Atefeh-ML-T2.ipynb",
      "provenance": [],
      "collapsed_sections": [],
      "toc_visible": true,
      "authorship_tag": "ABX9TyNWnPWWsGsU/m1Zuj5ldTpB",
      "include_colab_link": true
    },
    "kernelspec": {
      "name": "python3",
      "display_name": "Python 3"
    }
  },
  "cells": [
    {
      "cell_type": "markdown",
      "metadata": {
        "id": "view-in-github",
        "colab_type": "text"
      },
      "source": [
        "<a href=\"https://colab.research.google.com/github/atefehhaji/HW/blob/master/Atefeh_ML_T2.ipynb\" target=\"_parent\"><img src=\"https://colab.research.google.com/assets/colab-badge.svg\" alt=\"Open In Colab\"/></a>"
      ]
    },
    {
      "cell_type": "markdown",
      "metadata": {
        "id": "5u8n8hcZEbay",
        "colab_type": "text"
      },
      "source": [
        "# **HW 2**\n",
        "\n",
        "# ---\n",
        "\n",
        "\n",
        "Created by **Atefeh Hajijamali Arani**, August 13, 2020"
      ]
    },
    {
      "cell_type": "code",
      "metadata": {
        "id": "xAJApsiaEU-J",
        "colab_type": "code",
        "colab": {}
      },
      "source": [
        "import numpy as np\n",
        "import pandas as pd\n",
        "import matplotlib.pyplot as plt\n",
        "from sklearn.linear_model import LinearRegression\n",
        "from sklearn.model_selection import train_test_split, KFold, learning_curve\n",
        "from sklearn.metrics import accuracy_score, precision_score, recall_score, f1_score,roc_auc_score, mean_squared_error \n",
        "import warnings\n",
        "warnings.filterwarnings('ignore')\n",
        "%matplotlib inline"
      ],
      "execution_count": 49,
      "outputs": []
    },
    {
      "cell_type": "code",
      "metadata": {
        "id": "sT-A8ltuEU68",
        "colab_type": "code",
        "colab": {}
      },
      "source": [
        "lr_model = LinearRegression(normalize=True)\n",
        "seed_number = 42"
      ],
      "execution_count": 23,
      "outputs": []
    },
    {
      "cell_type": "markdown",
      "metadata": {
        "id": "rW4M7lwVFk--",
        "colab_type": "text"
      },
      "source": [
        ""
      ]
    },
    {
      "cell_type": "markdown",
      "metadata": {
        "id": "Dqa-YsEPFmYT",
        "colab_type": "text"
      },
      "source": [
        "# **Genrating Data**"
      ]
    },
    {
      "cell_type": "code",
      "metadata": {
        "id": "hZSNFcz8Fuq9",
        "colab_type": "code",
        "colab": {
          "base_uri": "https://localhost:8080/",
          "height": 34
        },
        "outputId": "23786dd6-3266-4dbc-d86c-dba6a1ffb645"
      },
      "source": [
        "x = np.random.rand(200, 1)\n",
        "#x.shape\n",
        "y = x + x ** 2 + x ** 3 + x ** 4\n",
        "y = y + np.random.normal(scale=1, size=y.shape)\n",
        "y.shape"
      ],
      "execution_count": 24,
      "outputs": [
        {
          "output_type": "execute_result",
          "data": {
            "text/plain": [
              "(200, 1)"
            ]
          },
          "metadata": {
            "tags": []
          },
          "execution_count": 24
        }
      ]
    },
    {
      "cell_type": "code",
      "metadata": {
        "id": "NoaUGUVYF8EQ",
        "colab_type": "code",
        "colab": {
          "base_uri": "https://localhost:8080/",
          "height": 52
        },
        "outputId": "0f3e3406-ab24-43e5-a736-830dccc52342"
      },
      "source": [
        "x_train, x_test, y_train, y_test = train_test_split(x, y, test_size=0.2, random_state=42)\n",
        "print(x_test.shape)\n",
        "print(x_train.shape)"
      ],
      "execution_count": 25,
      "outputs": [
        {
          "output_type": "stream",
          "text": [
            "(40, 1)\n",
            "(160, 1)\n"
          ],
          "name": "stdout"
        }
      ]
    },
    {
      "cell_type": "markdown",
      "metadata": {
        "id": "LyOW_EVLZTnj",
        "colab_type": "text"
      },
      "source": [
        "# **Part 1**"
      ]
    },
    {
      "cell_type": "markdown",
      "metadata": {
        "id": "5w6rthssbp8K",
        "colab_type": "text"
      },
      "source": [
        "*   The degree of the polynomial features = **1**"
      ]
    },
    {
      "cell_type": "code",
      "metadata": {
        "id": "xVxYP2XGZXfg",
        "colab_type": "code",
        "colab": {
          "base_uri": "https://localhost:8080/",
          "height": 301
        },
        "outputId": "9324bbdf-6139-40a1-98f6-14092c12e902"
      },
      "source": [
        "lr_model.fit(x_train ,y_train)\n",
        "y_predict = lr_model.predict(x_test)\n",
        "\n",
        "plt.plot(x_test,y_test, 'co')\n",
        "plt.plot(x_train, y_train, 'bo')\n",
        "\n",
        "x_line = np.arange(-0.25, 1.25, 0.1).reshape(-1,1)\n",
        "y_line = lr_model.predict(x_line)\n",
        "plt.plot(x_line,y_line, 'r--')\n",
        "\n",
        "print('Score of train set = {}\\nScore of test set = {}' .format(lr_model.score(x_train,y_train),lr_model.score(x_test,y_test)))"
      ],
      "execution_count": 26,
      "outputs": [
        {
          "output_type": "stream",
          "text": [
            "Score of train set = 0.5284937582101337\n",
            "Score of test set = 0.5829754145395705\n"
          ],
          "name": "stdout"
        },
        {
          "output_type": "display_data",
          "data": {
            "image/png": "[encoded data removed]",
            "text/plain": [
              "<Figure size 432x288 with 1 Axes>"
            ]
          },
          "metadata": {
            "tags": [],
            "needs_background": "light"
          }
        }
      ]
    },
    {
      "cell_type": "markdown",
      "metadata": {
        "colab_type": "text",
        "id": "CvN8juG9cGjB"
      },
      "source": [
        "*   The degree of the polynomial features = **2**"
      ]
    },
    {
      "cell_type": "code",
      "metadata": {
        "colab_type": "code",
        "id": "YYeK2kQJcKSw",
        "colab": {
          "base_uri": "https://localhost:8080/",
          "height": 301
        },
        "outputId": "4f257bf3-7ca0-4514-e2c9-881ce7bd33e4"
      },
      "source": [
        "from sklearn.preprocessing import PolynomialFeatures  \n",
        "poly_features = PolynomialFeatures(degree = 2)  \n",
        "x_poly_train = poly_features.fit_transform(x_train)\n",
        "# print(x_train[0], x_poly[0])\n",
        "# print(x_poly.shape, x_train.shape)\n",
        "lr_model.fit(x_poly_train, y_train)\n",
        "\n",
        "x_poly_test = poly_features.fit_transform(x_test)\n",
        "y_poly_predict= lr_model.predict(x_poly_test)\n",
        "\n",
        "plt.plot(x_test,y_test, 'co')\n",
        "plt.plot(x_train, y_train, 'bo')\n",
        "\n",
        "x_line = np.arange(-0.25, 1.25, 0.1).reshape(-1,1)\n",
        "y_line = lr_model.predict(poly_features.fit_transform(x_line))\n",
        "plt.plot(x_line,y_line, 'r--')\n",
        "\n",
        "print('Score of train set = {}\\nScore of test set = {}' .format(lr_model.score(x_poly_train,y_train),lr_model.score(x_poly_test,y_test)))"
      ],
      "execution_count": 27,
      "outputs": [
        {
          "output_type": "stream",
          "text": [
            "Score of train set = 0.5591013156653126\n",
            "Score of test set = 0.5992010231723944\n"
          ],
          "name": "stdout"
        },
        {
          "output_type": "display_data",
          "data": {
            "image/png": "[encoded data removed]",
            "text/plain": [
              "<Figure size 432x288 with 1 Axes>"
            ]
          },
          "metadata": {
            "tags": [],
            "needs_background": "light"
          }
        }
      ]
    },
    {
      "cell_type": "markdown",
      "metadata": {
        "colab_type": "text",
        "id": "DW2crH6HjR5X"
      },
      "source": [
        "*   The degree of the polynomial features = **4**"
      ]
    },
    {
      "cell_type": "code",
      "metadata": {
        "colab_type": "code",
        "id": "tN32xIVpjR5c",
        "colab": {
          "base_uri": "https://localhost:8080/",
          "height": 301
        },
        "outputId": "4d1fa5a0-8fe7-4dcb-a72b-16dc5692e2af"
      },
      "source": [
        "from sklearn.preprocessing import PolynomialFeatures  \n",
        "poly_features = PolynomialFeatures(degree = 4)  \n",
        "x_poly_train = poly_features.fit_transform(x_train)\n",
        "# print(x_train[0], x_poly[0])\n",
        "# print(x_poly.shape, x_train.shape)\n",
        "lr_model.fit(x_poly_train, y_train)\n",
        "\n",
        "x_poly_test = poly_features.fit_transform(x_test)\n",
        "y_poly_predict= lr_model.predict(x_poly_test)\n",
        "\n",
        "plt.plot(x_test,y_test, 'co')\n",
        "plt.plot(x_train, y_train, 'bo')\n",
        "\n",
        "x_line = np.arange(-0.25, 1.25, 0.1).reshape(-1,1)\n",
        "y_line = lr_model.predict(poly_features.fit_transform(x_line))\n",
        "plt.plot(x_line,y_line, 'r--')\n",
        "\n",
        "print('Score of train set = {}\\nScore of test set = {}' .format(lr_model.score(x_poly_train,y_train),lr_model.score(x_poly_test,y_test)))"
      ],
      "execution_count": 28,
      "outputs": [
        {
          "output_type": "stream",
          "text": [
            "Score of train set = 0.5592313772661468\n",
            "Score of test set = 0.6012572162469688\n"
          ],
          "name": "stdout"
        },
        {
          "output_type": "display_data",
          "data": {
            "image/png": "[encoded data removed]",
            "text/plain": [
              "<Figure size 432x288 with 1 Axes>"
            ]
          },
          "metadata": {
            "tags": [],
            "needs_background": "light"
          }
        }
      ]
    },
    {
      "cell_type": "markdown",
      "metadata": {
        "colab_type": "text",
        "id": "2ZEzVJOokASz"
      },
      "source": [
        "*   The degree of the polynomial features = **8**"
      ]
    },
    {
      "cell_type": "code",
      "metadata": {
        "colab_type": "code",
        "id": "Eby8WR-zkAS6",
        "colab": {
          "base_uri": "https://localhost:8080/",
          "height": 300
        },
        "outputId": "3140f096-005f-4eb5-ec62-14ef938b4f0d"
      },
      "source": [
        "from sklearn.preprocessing import PolynomialFeatures  \n",
        "poly_features = PolynomialFeatures(degree = 8)  \n",
        "x_poly_train = poly_features.fit_transform(x_train)\n",
        "# print(x_train[0], x_poly[0])\n",
        "# print(x_poly.shape, x_train.shape)\n",
        "lr_model.fit(x_poly_train, y_train)\n",
        "\n",
        "x_poly_test = poly_features.fit_transform(x_test)\n",
        "y_poly_predict= lr_model.predict(x_poly_test)\n",
        "\n",
        "plt.plot(x_test,y_test, 'co')\n",
        "plt.plot(x_train, y_train, 'bo')\n",
        "\n",
        "x_line = np.arange(-0.25, 1.25, 0.1).reshape(-1,1)\n",
        "y_line = lr_model.predict(poly_features.fit_transform(x_line))\n",
        "plt.plot(x_line,y_line, 'r--')\n",
        "\n",
        "print('Score of train set = {}\\nScore of test set = {}' .format(lr_model.score(x_poly_train,y_train),lr_model.score(x_poly_test,y_test)))"
      ],
      "execution_count": 29,
      "outputs": [
        {
          "output_type": "stream",
          "text": [
            "Score of train set = 0.5762378275932563\n",
            "Score of test set = 0.5902983085402558\n"
          ],
          "name": "stdout"
        },
        {
          "output_type": "display_data",
          "data": {
            "image/png": "[encoded data removed]",
            "text/plain": [
              "<Figure size 432x288 with 1 Axes>"
            ]
          },
          "metadata": {
            "tags": [],
            "needs_background": "light"
          }
        }
      ]
    },
    {
      "cell_type": "markdown",
      "metadata": {
        "colab_type": "text",
        "id": "FtqBBGz8lKTJ"
      },
      "source": [
        "*   The degree of the polynomial features = **16**"
      ]
    },
    {
      "cell_type": "code",
      "metadata": {
        "colab_type": "code",
        "id": "xq574JVblPvf",
        "colab": {
          "base_uri": "https://localhost:8080/",
          "height": 300
        },
        "outputId": "e8e7756c-2eed-47b5-da5b-0a8f9dc85ee2"
      },
      "source": [
        "from sklearn.preprocessing import PolynomialFeatures  \n",
        "poly_features = PolynomialFeatures(degree = 16)  \n",
        "x_poly_train = poly_features.fit_transform(x_train)\n",
        "# print(x_train[0], x_poly[0])\n",
        "# print(x_poly.shape, x_train.shape)\n",
        "lr_model.fit(x_poly_train, y_train)\n",
        "\n",
        "x_poly_test = poly_features.fit_transform(x_test)\n",
        "y_poly_predict= lr_model.predict(x_poly_test)\n",
        "\n",
        "plt.plot(x_test,y_test, 'co')\n",
        "plt.plot(x_train, y_train, 'bo')\n",
        "\n",
        "x_line = np.arange(-0.25, 1.25, 0.1).reshape(-1,1)\n",
        "y_line = lr_model.predict(poly_features.fit_transform(x_line))\n",
        "plt.plot(x_line,y_line, 'r--')\n",
        "\n",
        "print('Score of train set = {}\\nScore of test set = {}' .format(lr_model.score(x_poly_train,y_train),lr_model.score(x_poly_test,y_test)))"
      ],
      "execution_count": 30,
      "outputs": [
        {
          "output_type": "stream",
          "text": [
            "Score of train set = 0.6124895749813797\n",
            "Score of test set = 0.5891013599625059\n"
          ],
          "name": "stdout"
        },
        {
          "output_type": "display_data",
          "data": {
            "image/png": "[encoded data removed]",
            "text/plain": [
              "<Figure size 432x288 with 1 Axes>"
            ]
          },
          "metadata": {
            "tags": [],
            "needs_background": "light"
          }
        }
      ]
    },
    {
      "cell_type": "markdown",
      "metadata": {
        "id": "YmWWzvfXnbi6",
        "colab_type": "text"
      },
      "source": [
        "With For"
      ]
    },
    {
      "cell_type": "code",
      "metadata": {
        "id": "qnxeJs23nkJN",
        "colab_type": "code",
        "colab": {}
      },
      "source": [
        ""
      ],
      "execution_count": 30,
      "outputs": []
    },
    {
      "cell_type": "code",
      "metadata": {
        "colab_type": "code",
        "id": "6DMh1lvankmc",
        "colab": {
          "base_uri": "https://localhost:8080/",
          "height": 352
        },
        "outputId": "72e2d187-3d57-439c-e26b-266ea7a00ac3"
      },
      "source": [
        "from sklearn.preprocessing import PolynomialFeatures  \n",
        "fig = plt.figure()\n",
        "fig.subplots_adjust(hspace=0.7, wspace=0.7)\n",
        "score_train =[]\n",
        "score_test = []\n",
        "MSE_test = []\n",
        "MSE_train = []\n",
        "for i in range (0,5):\n",
        "  Degree = 2**i\n",
        "  poly_features = PolynomialFeatures(degree = Degree)  \n",
        "  x_poly_train = poly_features.fit_transform(x_train)\n",
        "  lr_model.fit(x_poly_train, y_train)\n",
        "  x_poly_test = poly_features.fit_transform(x_test)\n",
        "  y_poly_predict= lr_model.predict(x_poly_test)\n",
        "\n",
        "  y_poly_train_predict = lr_model.predict(x_poly_train)\n",
        "  x_line = np.arange(-0.25, 1.25, 0.1).reshape(-1,1)\n",
        "  y_line = lr_model.predict(poly_features.fit_transform(x_line))\n",
        "  ax = fig.add_subplot(2, 3, i+1)\n",
        "  ax.plot(x_test ,y_test, 'co')\n",
        "  ax.plot(x_train, y_train, 'bo')\n",
        "  ax.title.set_text('Degree = {}'.format(Degree))\n",
        "  ax.plot(x_line,y_line,'r--')\n",
        "  score_train.append(lr_model.score(x_poly_train,y_train))\n",
        "  score_test.append(lr_model.score(x_poly_test,y_test))\n",
        "  MSE_train.append(mean_squared_error(y_train,y_poly_train_predict))\n",
        "  MSE_test.append(mean_squared_error(y_test,y_poly_predict))\n",
        "print('Score of train set = {}\\nScore of test set = {}' .format(score_train,score_test))\n",
        "\n",
        "print('MSE of train set = {}\\nMSE of test set = {}' .format( MSE_train,MSE_test))"
      ],
      "execution_count": 51,
      "outputs": [
        {
          "output_type": "stream",
          "text": [
            "Score of train set = [0.5284937582101337, 0.5591013156653126, 0.5592313772661468, 0.5762378275932563, 0.6124895749813797]\n",
            "Score of test set = [0.5829754145395705, 0.5992010231723944, 0.6012572162469688, 0.5902983085402558, 0.5891013599625059]\n",
            "MSE of train set = [0.877369054812916, 0.8204151454592615, 0.8201731295246301, 0.7885278787797448, 0.7210713776303721]\n",
            "MSE of test set = [1.1374638682529898, 1.0932073802575062, 1.0875989691229488, 1.117490160161824, 1.120754921537569]\n"
          ],
          "name": "stdout"
        },
        {
          "output_type": "display_data",
          "data": {
            "image/png": "[encoded data removed]",
            "text/plain": [
              "<Figure size 432x288 with 5 Axes>"
            ]
          },
          "metadata": {
            "tags": [],
            "needs_background": "light"
          }
        }
      ]
    },
    {
      "cell_type": "markdown",
      "metadata": {
        "id": "9HpxMaYsyRVj",
        "colab_type": "text"
      },
      "source": [
        "# **Part 2**"
      ]
    },
    {
      "cell_type": "code",
      "metadata": {
        "id": "W8prS4sAyVaf",
        "colab_type": "code",
        "colab": {
          "base_uri": "https://localhost:8080/",
          "height": 296
        },
        "outputId": "bb4941b1-461d-4319-d655-7a8f96ce9b4e"
      },
      "source": [
        "Degree_set = [2**i for i in range (0,5)]\n",
        "plt.plot(Degree_set,MSE_train, 'b*-', label = 'Train')\n",
        "plt.plot(Degree_set, MSE_test, 'ro-', label = 'Test')\n",
        "plt.legend()\n",
        "plt.ylabel('MSE')\n",
        "plt.xlabel('Degree')"
      ],
      "execution_count": 58,
      "outputs": [
        {
          "output_type": "execute_result",
          "data": {
            "text/plain": [
              "Text(0.5, 0, 'Degree')"
            ]
          },
          "metadata": {
            "tags": []
          },
          "execution_count": 58
        },
        {
          "output_type": "display_data",
          "data": {
            "image/png": "[encoded data removed]",
            "text/plain": [
              "<Figure size 432x288 with 1 Axes>"
            ]
          },
          "metadata": {
            "tags": [],
            "needs_background": "light"
          }
        }
      ]
    }
  ]
}