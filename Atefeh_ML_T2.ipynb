{
  "nbformat": 4,
  "nbformat_minor": 0,
  "metadata": {
    "colab": {
      "name": "Atefeh-ML-T2.ipynb",
      "provenance": [],
      "collapsed_sections": [],
      "toc_visible": true,
      "authorship_tag": "ABX9TyPY6lKQXt99BkNNe94Gp5LE",
      "include_colab_link": true
    },
    "kernelspec": {
      "name": "python3",
      "display_name": "Python 3"
    }
  },
  "cells": [
    {
      "cell_type": "markdown",
      "metadata": {
        "id": "view-in-github",
        "colab_type": "text"
      },
      "source": [
        "<a href=\"https://colab.research.google.com/github/atefehhaji/HW/blob/master/Atefeh_ML_T2.ipynb\" target=\"_parent\"><img src=\"https://colab.research.google.com/assets/colab-badge.svg\" alt=\"Open In Colab\"/></a>"
      ]
    },
    {
      "cell_type": "markdown",
      "metadata": {
        "id": "5u8n8hcZEbay",
        "colab_type": "text"
      },
      "source": [
        "# **HW 2**\n",
        "\n",
        "# ---\n",
        "\n",
        "\n",
        "Created by **Atefeh Hajijamali Arani**, August 13, 2020"
      ]
    },
    {
      "cell_type": "code",
      "metadata": {
        "id": "xAJApsiaEU-J",
        "colab_type": "code",
        "colab": {}
      },
      "source": [
        "import numpy as np\n",
        "import pandas as pd\n",
        "import matplotlib.pyplot as plt\n",
        "from sklearn.linear_model import LinearRegression\n",
        "from sklearn.model_selection import train_test_split, KFold, learning_curve\n",
        "from sklearn.metrics import accuracy_score, precision_score, recall_score, f1_score,roc_auc_score\n",
        "import warnings\n",
        "warnings.filterwarnings('ignore')\n",
        "%matplotlib inline"
      ],
      "execution_count": 7,
      "outputs": []
    },
    {
      "cell_type": "code",
      "metadata": {
        "id": "sT-A8ltuEU68",
        "colab_type": "code",
        "colab": {}
      },
      "source": [
        "lr_model = LinearRegression(normalize=True)\n",
        "seed_number = 42"
      ],
      "execution_count": 8,
      "outputs": []
    },
    {
      "cell_type": "markdown",
      "metadata": {
        "id": "rW4M7lwVFk--",
        "colab_type": "text"
      },
      "source": [
        ""
      ]
    },
    {
      "cell_type": "markdown",
      "metadata": {
        "id": "Dqa-YsEPFmYT",
        "colab_type": "text"
      },
      "source": [
        "# **Genrating Data**"
      ]
    },
    {
      "cell_type": "code",
      "metadata": {
        "id": "hZSNFcz8Fuq9",
        "colab_type": "code",
        "colab": {
          "base_uri": "https://localhost:8080/",
          "height": 34
        },
        "outputId": "c80bd302-5f02-4a6d-8fb1-8dd4d7267eaf"
      },
      "source": [
        "x = np.random.rand(200, 1)\n",
        "#x.shape\n",
        "y = x + x ** 2 + x ** 3 + x ** 4\n",
        "y = y + np.random.normal(scale=1, size=y.shape)\n",
        "y.shape"
      ],
      "execution_count": 9,
      "outputs": [
        {
          "output_type": "execute_result",
          "data": {
            "text/plain": [
              "(200, 1)"
            ]
          },
          "metadata": {
            "tags": []
          },
          "execution_count": 9
        }
      ]
    },
    {
      "cell_type": "code",
      "metadata": {
        "id": "NoaUGUVYF8EQ",
        "colab_type": "code",
        "colab": {
          "base_uri": "https://localhost:8080/",
          "height": 52
        },
        "outputId": "5d01512e-472d-4ad1-a89c-0b016faba279"
      },
      "source": [
        "x_train, x_test, y_train, y_test = train_test_split(x, y, test_size=0.2, random_state=42)\n",
        "print(x_test.shape)\n",
        "print(x_train.shape)"
      ],
      "execution_count": 10,
      "outputs": [
        {
          "output_type": "stream",
          "text": [
            "(40, 1)\n",
            "(160, 1)\n"
          ],
          "name": "stdout"
        }
      ]
    },
    {
      "cell_type": "markdown",
      "metadata": {
        "id": "LyOW_EVLZTnj",
        "colab_type": "text"
      },
      "source": [
        "# **Part 1**"
      ]
    },
    {
      "cell_type": "markdown",
      "metadata": {
        "id": "5w6rthssbp8K",
        "colab_type": "text"
      },
      "source": [
        "*   The degree of the polynomial features = **1**"
      ]
    },
    {
      "cell_type": "code",
      "metadata": {
        "id": "xVxYP2XGZXfg",
        "colab_type": "code",
        "colab": {
          "base_uri": "https://localhost:8080/",
          "height": 300
        },
        "outputId": "ebc22599-f968-4146-d116-1424a8d5f762"
      },
      "source": [
        "lr_model.fit(x_train ,y_train)\n",
        "y_predict = lr_model.predict(x_test)\n",
        "\n",
        "plt.plot(x_test,y_test, 'co')\n",
        "plt.plot(x_train, y_train, 'bo')\n",
        "\n",
        "x_line = np.arange(-0.25, 1.25, 0.1).reshape(-1,1)\n",
        "y_line = lr_model.predict(x_line)\n",
        "plt.plot(x_line,y_line, 'r--')\n",
        "\n",
        "print('Score of train set = {}\\nScore of test set = {}' .format(lr_model.score(x_train,y_train),lr_model.score(x_test,y_test)))"
      ],
      "execution_count": 12,
      "outputs": [
        {
          "output_type": "stream",
          "text": [
            "Score of train set = 0.5424259227477986\n",
            "Score of test set = 0.5953243459247242\n"
          ],
          "name": "stdout"
        },
        {
          "output_type": "display_data",
          "data": {
            "image/png": "[encoded data removed]",
            "text/plain": [
              "<Figure size 432x288 with 1 Axes>"
            ]
          },
          "metadata": {
            "tags": [],
            "needs_background": "light"
          }
        }
      ]
    },
    {
      "cell_type": "markdown",
      "metadata": {
        "colab_type": "text",
        "id": "CvN8juG9cGjB"
      },
      "source": [
        "*   The degree of the polynomial features = **2**"
      ]
    },
    {
      "cell_type": "code",
      "metadata": {
        "colab_type": "code",
        "id": "YYeK2kQJcKSw",
        "colab": {
          "base_uri": "https://localhost:8080/",
          "height": 300
        },
        "outputId": "7a5b9ac5-2482-4832-8fd7-3531c82bf6fa"
      },
      "source": [
        "from sklearn.preprocessing import PolynomialFeatures  \n",
        "poly_features = PolynomialFeatures(degree = 2)  \n",
        "x_poly_train = poly_features.fit_transform(x_train)\n",
        "# print(x_train[0], x_poly[0])\n",
        "# print(x_poly.shape, x_train.shape)\n",
        "lr_model.fit(x_poly_train, y_train)\n",
        "\n",
        "x_poly_test = poly_features.fit_transform(x_test)\n",
        "y_poly_predict= lr_model.predict(x_poly_test)\n",
        "\n",
        "plt.plot(x_test,y_test, 'co')\n",
        "plt.plot(x_train, y_train, 'bo')\n",
        "\n",
        "x_line = np.arange(-0.25, 1.25, 0.1).reshape(-1,1)\n",
        "y_line = lr_model.predict(poly_features.fit_transform(x_line))\n",
        "plt.plot(x_line,y_line, 'r--')\n",
        "\n",
        "print('Score of train set = {}\\nScore of test set = {}' .format(lr_model.score(x_poly_train,y_train),lr_model.score(x_poly_test,y_test)))"
      ],
      "execution_count": 13,
      "outputs": [
        {
          "output_type": "stream",
          "text": [
            "Score of train set = 0.58947516908958\n",
            "Score of test set = 0.7179491275683061\n"
          ],
          "name": "stdout"
        },
        {
          "output_type": "display_data",
          "data": {
            "image/png": "[encoded data removed]",
            "text/plain": [
              "<Figure size 432x288 with 1 Axes>"
            ]
          },
          "metadata": {
            "tags": [],
            "needs_background": "light"
          }
        }
      ]
    },
    {
      "cell_type": "markdown",
      "metadata": {
        "colab_type": "text",
        "id": "DW2crH6HjR5X"
      },
      "source": [
        "*   The degree of the polynomial features = **4**"
      ]
    },
    {
      "cell_type": "code",
      "metadata": {
        "colab_type": "code",
        "id": "tN32xIVpjR5c",
        "colab": {
          "base_uri": "https://localhost:8080/",
          "height": 300
        },
        "outputId": "ffa0d9b4-02e2-4119-84db-6a0b3bf0dcdd"
      },
      "source": [
        "from sklearn.preprocessing import PolynomialFeatures  \n",
        "poly_features = PolynomialFeatures(degree = 4)  \n",
        "x_poly_train = poly_features.fit_transform(x_train)\n",
        "# print(x_train[0], x_poly[0])\n",
        "# print(x_poly.shape, x_train.shape)\n",
        "lr_model.fit(x_poly_train, y_train)\n",
        "\n",
        "x_poly_test = poly_features.fit_transform(x_test)\n",
        "y_poly_predict= lr_model.predict(x_poly_test)\n",
        "\n",
        "plt.plot(x_test,y_test, 'co')\n",
        "plt.plot(x_train, y_train, 'bo')\n",
        "\n",
        "x_line = np.arange(-0.25, 1.25, 0.1).reshape(-1,1)\n",
        "y_line = lr_model.predict(poly_features.fit_transform(x_line))\n",
        "plt.plot(x_line,y_line, 'r--')\n",
        "\n",
        "print('Score of train set = {}\\nScore of test set = {}' .format(lr_model.score(x_poly_train,y_train),lr_model.score(x_poly_test,y_test)))"
      ],
      "execution_count": 14,
      "outputs": [
        {
          "output_type": "stream",
          "text": [
            "Score of train set = 0.6006713519648711\n",
            "Score of test set = 0.69944866742687\n"
          ],
          "name": "stdout"
        },
        {
          "output_type": "display_data",
          "data": {
            "image/png": "[encoded data removed]",
            "text/plain": [
              "<Figure size 432x288 with 1 Axes>"
            ]
          },
          "metadata": {
            "tags": [],
            "needs_background": "light"
          }
        }
      ]
    },
    {
      "cell_type": "markdown",
      "metadata": {
        "colab_type": "text",
        "id": "2ZEzVJOokASz"
      },
      "source": [
        "*   The degree of the polynomial features = **8**"
      ]
    },
    {
      "cell_type": "code",
      "metadata": {
        "colab_type": "code",
        "id": "Eby8WR-zkAS6",
        "colab": {
          "base_uri": "https://localhost:8080/",
          "height": 300
        },
        "outputId": "8d9784fb-0d3c-446f-b745-259848581101"
      },
      "source": [
        "from sklearn.preprocessing import PolynomialFeatures  \n",
        "poly_features = PolynomialFeatures(degree = 8)  \n",
        "x_poly_train = poly_features.fit_transform(x_train)\n",
        "# print(x_train[0], x_poly[0])\n",
        "# print(x_poly.shape, x_train.shape)\n",
        "lr_model.fit(x_poly_train, y_train)\n",
        "\n",
        "x_poly_test = poly_features.fit_transform(x_test)\n",
        "y_poly_predict= lr_model.predict(x_poly_test)\n",
        "\n",
        "plt.plot(x_test,y_test, 'co')\n",
        "plt.plot(x_train, y_train, 'bo')\n",
        "\n",
        "x_line = np.arange(-0.25, 1.25, 0.1).reshape(-1,1)\n",
        "y_line = lr_model.predict(poly_features.fit_transform(x_line))\n",
        "plt.plot(x_line,y_line, 'r--')\n",
        "\n",
        "print('Score of train set = {}\\nScore of test set = {}' .format(lr_model.score(x_poly_train,y_train),lr_model.score(x_poly_test,y_test)))"
      ],
      "execution_count": 15,
      "outputs": [
        {
          "output_type": "stream",
          "text": [
            "Score of train set = 0.6105779716361877\n",
            "Score of test set = 0.7226703864117253\n"
          ],
          "name": "stdout"
        },
        {
          "output_type": "display_data",
          "data": {
            "image/png": "[encoded data removed]",
            "text/plain": [
              "<Figure size 432x288 with 1 Axes>"
            ]
          },
          "metadata": {
            "tags": [],
            "needs_background": "light"
          }
        }
      ]
    },
    {
      "cell_type": "markdown",
      "metadata": {
        "colab_type": "text",
        "id": "FtqBBGz8lKTJ"
      },
      "source": [
        "*   The degree of the polynomial features = **16**"
      ]
    },
    {
      "cell_type": "code",
      "metadata": {
        "colab_type": "code",
        "id": "xq574JVblPvf",
        "colab": {
          "base_uri": "https://localhost:8080/",
          "height": 300
        },
        "outputId": "86f2a55b-6dd4-4c7a-bb4f-1980844e1b34"
      },
      "source": [
        "from sklearn.preprocessing import PolynomialFeatures  \n",
        "poly_features = PolynomialFeatures(degree = 16)  \n",
        "x_poly_train = poly_features.fit_transform(x_train)\n",
        "# print(x_train[0], x_poly[0])\n",
        "# print(x_poly.shape, x_train.shape)\n",
        "lr_model.fit(x_poly_train, y_train)\n",
        "\n",
        "x_poly_test = poly_features.fit_transform(x_test)\n",
        "y_poly_predict= lr_model.predict(x_poly_test)\n",
        "\n",
        "plt.plot(x_test,y_test, 'co')\n",
        "plt.plot(x_train, y_train, 'bo')\n",
        "\n",
        "x_line = np.arange(-0.25, 1.25, 0.1).reshape(-1,1)\n",
        "y_line = lr_model.predict(poly_features.fit_transform(x_line))\n",
        "plt.plot(x_line,y_line, 'r--')\n",
        "\n",
        "print('Score of train set = {}\\nScore of test set = {}' .format(lr_model.score(x_poly_train,y_train),lr_model.score(x_poly_test,y_test)))"
      ],
      "execution_count": 17,
      "outputs": [
        {
          "output_type": "stream",
          "text": [
            "Score of train set = 0.6279938250757648\n",
            "Score of test set = 0.6970749350123365\n"
          ],
          "name": "stdout"
        },
        {
          "output_type": "display_data",
          "data": {
            "image/png": "[encoded data removed]",
            "text/plain": [
              "<Figure size 432x288 with 1 Axes>"
            ]
          },
          "metadata": {
            "tags": [],
            "needs_background": "light"
          }
        }
      ]
    }
  ]
}